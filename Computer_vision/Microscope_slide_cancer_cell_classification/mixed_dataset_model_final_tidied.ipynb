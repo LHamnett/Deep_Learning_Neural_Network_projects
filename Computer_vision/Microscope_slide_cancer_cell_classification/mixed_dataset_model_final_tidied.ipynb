{
  "cells": [
    {
      "cell_type": "code",
      "execution_count": null,
      "metadata": {
        "id": "UxF6wktqc8XF"
      },
      "outputs": [],
      "source": [
        "#install needed libraries\n",
        "!pip install git+https://github.com/albumentations-team/albumentations\n",
        "!pip install tensorflow\n",
        "!pip install -U tensorflow-addons"
      ]
    },
    {
      "cell_type": "code",
      "execution_count": null,
      "metadata": {
        "id": "pViPakrH7d1x"
      },
      "outputs": [],
      "source": [
        "import os\n",
        "# !pip install shutil\n",
        "import shutil\n",
        "import numpy as np\n",
        "import pandas as pd\n",
        "\n",
        "from sklearn.utils import shuffle\n",
        "from sklearn.model_selection import train_test_split\n",
        "from sklearn.metrics import accuracy_score, f1_score, precision_score, roc_auc_score, classification_report\n",
        "from sklearn.metrics import confusion_matrix as cm\n",
        "\n",
        "import tensorflow as tf\n",
        "from tensorflow import keras\n",
        "import tensorflow_addons as tfa\n",
        "from keras import backend as K\n",
        "from tensorflow.keras.layers import Dense, Flatten, Dropout\n",
        "from tensorflow.keras import Model\n",
        "from tensorflow.keras.applications.efficientnet import EfficientNetB6 as efficientnet\n",
        "from tensorflow.keras.applications.inception_v3 import InceptionV3 as inception\n",
        "from tensorflow.keras.applications.resnet50 import ResNet50 as rs50\n",
        "import tensorflow.keras.applications.xception as xception\n",
        "AUTOTUNE = tf.data.AUTOTUNE\n",
        "\n",
        "import tensorflow_addons as tfa\n",
        "\n",
        "import seaborn as sns\n",
        "import matplotlib.pyplot as plt\n",
        "\n",
        "# if have trouble installing/importing albumentations package , \n",
        "# try updating pip: pip install --upgrade pip\n",
        "import albumentations as A\n",
        "\n",
        "import cv2\n",
        "\n",
        "from collections import Counter\n",
        "from google.colab.patches import cv2_imshow\n",
        "\n",
        "\n",
        "\n"
      ]
    },
    {
      "cell_type": "code",
      "execution_count": null,
      "metadata": {
        "colab": {
          "base_uri": "https://localhost:8080/"
        },
        "id": "nQl1sV0KJDyY",
        "outputId": "61e065d8-4c75-4930-917d-335158432af1"
      },
      "outputs": [
        {
          "output_type": "stream",
          "name": "stdout",
          "text": [
            "Mounted at /content/drive\n"
          ]
        }
      ],
      "source": [
        "#mount google drive\n",
        "from google.colab import drive \n",
        "drive.mount('/content/drive')"
      ]
    },
    {
      "cell_type": "markdown",
      "metadata": {
        "id": "84tTVeaVNqZL"
      },
      "source": [
        "## Set folder locations"
      ]
    },
    {
      "cell_type": "code",
      "execution_count": null,
      "metadata": {
        "id": "3kyD0KzwJO9T"
      },
      "outputs": [],
      "source": [
        "#set path to cervAI folder shortcut within local gdrive\n",
        "project_folder = os.path.join('content/drive/MyDrive','cerv_AI')\n",
        "project_folder = '/content/drive/.shortcut-targets-by-id/1MN_MgyhaHPoUpQYCws4tOpGbXA-NfwN_/Official_Folder_for_CervAi'\n",
        "\n",
        "data_folder = os.path.join(project_folder,'Data')\n",
        "raw_data_folder = os.path.join(project_folder,'Data/raw')\n",
        "structured_data_folder = os.path.join(project_folder,'Data/Structured')\n",
        "\n",
        "# mixed_dir2 = os.path.join(data_folder,'CervAI2')\n",
        "mixed_dir2 = os.path.join(data_folder,'CervAI2_minside300')\n",
        "\n",
        "models_folder = os.path.join(data_folder,'saved_models')\n",
        "mixed_models_current = os.path.join(models_folder,'mixed_model/best_weights_current_run/')\n",
        "mixed_models_best = os.path.join(models_folder,'mixed_model/best_weights_all_runs/')"
      ]
    },
    {
      "cell_type": "markdown",
      "metadata": {
        "id": "UOXR2hCkheKz"
      },
      "source": [
        "## Get images paths and labels"
      ]
    },
    {
      "cell_type": "code",
      "execution_count": null,
      "metadata": {
        "id": "PbYBrDgTCDLJ"
      },
      "outputs": [],
      "source": [
        "def count_classes(label_array):\n",
        "  #function to look at array of labels and count number of examples in each class\n",
        "  label_list = label_array.flatten().tolist()\n",
        "  print('total images = ',len(label_list))\n",
        "  counter_dict = Counter(label_list)\n",
        "  return counter_dict\n",
        "\n",
        "def get_files_labels(input_dir):\n",
        "    image_paths = [] #empty list to store filepaths\n",
        "    labels = [] # empty list to store image labels\n",
        "    \n",
        "    for root, dirnames, filenames in os.walk(input_dir): #look at all folders and subfolders and get the filenames\n",
        "      for class_label in dirnames:\n",
        "        filenames = os.listdir(os.path.join(root,class_label))\n",
        "        for filename in filenames: #loop through filenames\n",
        "          temp_path = os.path.join(root,class_label,filename) # temp filepath\n",
        "          image_paths.append(temp_path) # add to image paths list\n",
        "          temp_label = class_label\n",
        "          labels.append(temp_label) # add label to label list\n",
        "\n",
        "    #convert list into array\n",
        "    image_paths = np.asarray(image_paths)\n",
        "    labels_array = np.array(labels)\n",
        "    # labels_array = labels_array.astype(int)\n",
        "    return image_paths, labels_array\n",
        "\n",
        "#get the image paths and labels from both training and validation sets\n",
        "train_image_paths_mixed , train_image_labels_mixed = get_files_labels(os.path.join(mixed_dir2,'train'))\n",
        "val_image_paths_mixed , val_image_labels_mixed = get_files_labels(os.path.join(mixed_dir2,'val'))\n",
        "\n",
        "\n"
      ]
    },
    {
      "cell_type": "code",
      "execution_count": null,
      "metadata": {
        "id": "LcJeSuj-2qmm"
      },
      "outputs": [],
      "source": [
        "#join the training and validation sets together to be upsampled and shuffled\n",
        "all_image_paths_mixed = np.concatenate((train_image_paths_mixed,val_image_paths_mixed))\n",
        "all_image_labels_mixed = np.concatenate((train_image_labels_mixed,val_image_labels_mixed))"
      ]
    },
    {
      "cell_type": "code",
      "execution_count": null,
      "metadata": {
        "colab": {
          "base_uri": "https://localhost:8080/"
        },
        "id": "MikBKsVF8wDG",
        "outputId": "d9b7272c-11aa-4282-edd2-b5d034491b8f"
      },
      "outputs": [
        {
          "output_type": "stream",
          "name": "stdout",
          "text": [
            "total images =  7901\n"
          ]
        },
        {
          "output_type": "execute_result",
          "data": {
            "text/plain": [
              "Counter({'NILM': 1599,\n",
              "         'SCC': 399,\n",
              "         'LSIL': 831,\n",
              "         'ASC-US': 601,\n",
              "         'ASC-H': 1186,\n",
              "         'HSIL': 3285})"
            ]
          },
          "metadata": {},
          "execution_count": 7
        }
      ],
      "source": [
        "#check how many examples we have in each class before upsampling\n",
        "count_classes(all_image_labels_mixed)"
      ]
    },
    {
      "cell_type": "code",
      "execution_count": null,
      "metadata": {
        "colab": {
          "base_uri": "https://localhost:8080/"
        },
        "id": "zRZJACK7pZ_c",
        "outputId": "c9021171-56f2-4304-fa52-bde95223a2da"
      },
      "outputs": [
        {
          "output_type": "stream",
          "name": "stdout",
          "text": [
            "[4 4 0 0 1 4 3 2 4 4]\n"
          ]
        }
      ],
      "source": [
        "#convert text labels to numeric\n",
        "def map_text_to_num(input_label):\n",
        "  input_labels = {'NL':0 , 'ASC-US':1, 'ASC-H':2,'LSIL':3,'HSIL':4,'SCC':5, 'NILM':0}\n",
        "  output_cn = input_labels[input_label]\n",
        "  return output_cn\n",
        "\n",
        "#turn text labels into numeric labels\n",
        "vfunc = np.vectorize(map_text_to_num)\n",
        "all_image_labels_mixed_num = vfunc(all_image_labels_mixed)\n",
        "\n",
        "#look at 10 random examples to make sure the transformation was applied correctly\n",
        "print(np.random.choice(all_image_labels_mixed_num,10))"
      ]
    },
    {
      "cell_type": "markdown",
      "metadata": {
        "id": "CVohefdiqpYj"
      },
      "source": [
        "## make train/val/test splits"
      ]
    },
    {
      "cell_type": "code",
      "execution_count": null,
      "metadata": {
        "colab": {
          "base_uri": "https://localhost:8080/"
        },
        "id": "zpd7ff58mA-R",
        "outputId": "779cec36-9225-4393-a32a-2311767bda49"
      },
      "outputs": [
        {
          "output_type": "stream",
          "name": "stdout",
          "text": [
            "6480\n",
            "6480\n",
            "720\n",
            "503\n",
            "503\n",
            "503\n",
            "count labels in each set:\n",
            "total images =  6480\n",
            "Counter({5: 1087, 3: 1086, 4: 1083, 2: 1077, 1: 1077, 0: 1070})\n",
            "total images =  720\n",
            "Counter({0: 130, 2: 123, 1: 123, 4: 117, 3: 114, 5: 113})\n",
            "train val test splits created\n"
          ]
        }
      ],
      "source": [
        "def upsample_file_paths_labels(file_paths_array,labels, max_class_amount):\n",
        "  '''\n",
        "  This function upsamples the images to achieve a roughly equal number of images in each class. \n",
        "  This should help the model better differentiate between the different classes\n",
        "  Inputs: \n",
        "\n",
        "  file_paths_array: A numpy array of filepaths pointing to the images \n",
        "  labels: A numpy array of labels giving the associated bethesda classification for each image\n",
        "  max_class_amount: An integer which gives the number of examples desired for each class\n",
        "\n",
        "  Outputs\n",
        "  returns two variables: new_filepaths,new_labels (both numpy arrays) where the new filepaths and labels will have a greater number than\n",
        "  the input arrays and the classes will be balanced to max_class_amount\n",
        "  '''\n",
        "  #make empty lists\n",
        "  new_filepaths = []\n",
        "  new_labels = []\n",
        " \n",
        "  #set local variable from input variable\n",
        "  max_class_amount = max_class_amount\n",
        "\n",
        "  #loop through classes as numbers\n",
        "  for x in range(0,6): \n",
        "    #find indices where labels match class label\n",
        "    indices_matching_class = np.argwhere(labels==x).reshape(-1) #make argwhere output 1 dimensional\n",
        "   \n",
        "    #upsample indices\n",
        "    upsampled_indices = np.random.choice(indices_matching_class,size=max_class_amount,replace=True) #keep choosing indices that match class label of interest until we have n=max_class_amount of examples for current class\n",
        "    \n",
        "    #using the upsampled indices, we use array indexing to create an upsampled array of filepaths and associated labels\n",
        "    upsampled_filepaths = file_paths_array[upsampled_indices]\n",
        "    upsampled_labels = labels[upsampled_indices]\n",
        "    \n",
        "    #On a per class level, we add the expanded filepaths and labels to our lists\n",
        "    new_filepaths.append(upsampled_filepaths)\n",
        "    new_labels.append(upsampled_labels)\n",
        "\n",
        "  #now we have two lists each containing 6 elements (1 per class) where each element contains n=max_class_amount examples\n",
        "  #we flatten both lists to get them back into a 1D format (each list now has 6*n elements). We also turn the lists into np arrays for easier pre-processing in the future\n",
        "  new_filepaths = np.asarray(new_filepaths).flatten()\n",
        "  new_labels = np.asarray(new_labels).flatten()\n",
        "  return new_filepaths,new_labels\n",
        "\n",
        "def make_train_test_splits(file_paths_array,labels,upsample=False, return2vals=False, max_class_amount=1000):\n",
        "  '''\n",
        "  This function will take arrays of filepaths and labels, upsample them if needed and then split them into training and validation datasets.\n",
        "  If desired two validation sets can be outputted which is useful for training meta-models or ensemble methods\n",
        "\n",
        "  Inputs:\n",
        "  file_paths_array: A numpy array of filepaths pointing to the images \n",
        "  labels: A numpy array of labels giving the associated bethesda classification for each image\n",
        "  upsample: Boolean - whether to upsample and balance the image classes or to retain the original number of each class\n",
        "  return2vals: Boolean - whether to return two validation sets. Set to true if a meta-model or ensemble model will be trained. Otherwise set to False.\n",
        "  max_class_amount: Integer - if upsample = True, the desired number of each class type\n",
        "\n",
        "  Outputs:\n",
        "  if return2vals = True: return numpy arrays for x_train, y_train, x_val_1, y_val_1, x_val_2, y_val_2\n",
        "  if return2vals = False: return numpy arrays for x_train, y_train, x_val_out, y_val_out\n",
        "  '''\n",
        "  #upsample if needed\n",
        "  if upsample == True:\n",
        "    new_file_paths , new_labels = upsample_file_paths_labels(file_paths_array,labels,max_class_amount)\n",
        "  else:\n",
        "    new_file_paths = file_paths_array\n",
        "    new_labels = labels\n",
        "\n",
        "  #split filepaths and labels into train/validation splits \n",
        "  x_train, x_val, y_train, y_val = train_test_split(new_file_paths, new_labels, train_size = 0.9, random_state=42, shuffle=True)\n",
        "  x_val_1, x_val_2, y_val_1, y_val_2 = train_test_split(x_val, y_val, train_size = 0.7, random_state=42, shuffle=True)\n",
        "\n",
        "  #show number of examples in each dataset\n",
        "  print(len(x_train))\n",
        "  print(len(y_train))\n",
        "  print(len(x_val))\n",
        "  print(len(y_val_1))\n",
        "  print(len(x_val_1))\n",
        "  print(len(y_val_1))\n",
        "  \n",
        "  #inverse transform each class label dataset so we can get the class amounts within each dataset\n",
        "  print('count labels in each set:')\n",
        "  for item in [y_train, y_val]:\n",
        "    print(count_classes(item))\n",
        "\n",
        "  print('train val test splits created')\n",
        "\n",
        "  #if it is not needed to make two validation datasets, we join the validation sets back together\n",
        "  if return2vals == False:\n",
        "    x_val_out = np.concatenate([x_val_1,x_val_2])\n",
        "    y_val_out = np.concatenate([y_val_1,y_val_2])\n",
        "    return x_train, y_train, x_val_out, y_val_out\n",
        "  else:\n",
        "    return x_train, y_train, x_val_1, y_val_1, x_val_2, y_val_2\n",
        "\n",
        "#create train/val/test splits\n",
        "x_train_mi, y_train_mi, x_val_1_mi, y_val_1_mi = make_train_test_splits(all_image_paths_mixed, \n",
        "                                                                      all_image_labels_mixed_num, \n",
        "                                                                      upsample=True, \n",
        "                                                                      return2vals = False,\n",
        "                                                                      max_class_amount=1200)\n"
      ]
    },
    {
      "cell_type": "code",
      "source": [
        "print(np.random.choice(x_train_mi,100))"
      ],
      "metadata": {
        "colab": {
          "base_uri": "https://localhost:8080/"
        },
        "id": "lCL8XU38evV3",
        "outputId": "afd9a11f-8875-44e3-8ea4-33580e52eecb"
      },
      "execution_count": null,
      "outputs": [
        {
          "output_type": "stream",
          "name": "stdout",
          "text": [
            "['/content/drive/.shortcut-targets-by-id/1MN_MgyhaHPoUpQYCws4tOpGbXA-NfwN_/Official_Folder_for_CervAi/Data/CervAI2_minside300/train/SCC/SCC_2 (3)_MEND.jpg'\n",
            " '/content/drive/.shortcut-targets-by-id/1MN_MgyhaHPoUpQYCws4tOpGbXA-NfwN_/Official_Folder_for_CervAi/Data/CervAI2_minside300/train/HSIL/HSIL_02882_CDET.jpg'\n",
            " '/content/drive/.shortcut-targets-by-id/1MN_MgyhaHPoUpQYCws4tOpGbXA-NfwN_/Official_Folder_for_CervAi/Data/CervAI2_minside300/train/SCC/SCC_05051_CDET.jpg'\n",
            " '/content/drive/.shortcut-targets-by-id/1MN_MgyhaHPoUpQYCws4tOpGbXA-NfwN_/Official_Folder_for_CervAi/Data/CervAI2_minside300/val/NILM/NILM_43_ (11)_MEND.jpg'\n",
            " '/content/drive/.shortcut-targets-by-id/1MN_MgyhaHPoUpQYCws4tOpGbXA-NfwN_/Official_Folder_for_CervAi/Data/CervAI2_minside300/train/ASC-US/ASC-US_02211_CDET.jpg'\n",
            " '/content/drive/.shortcut-targets-by-id/1MN_MgyhaHPoUpQYCws4tOpGbXA-NfwN_/Official_Folder_for_CervAi/Data/CervAI2_minside300/train/SCC/SCC_01802_CDET.jpg'\n",
            " '/content/drive/.shortcut-targets-by-id/1MN_MgyhaHPoUpQYCws4tOpGbXA-NfwN_/Official_Folder_for_CervAi/Data/CervAI2_minside300/train/ASC-US/ASC-US_01305_CDET.jpg'\n",
            " '/content/drive/.shortcut-targets-by-id/1MN_MgyhaHPoUpQYCws4tOpGbXA-NfwN_/Official_Folder_for_CervAi/Data/CervAI2_minside300/train/ASC-H/ASC-H_06983_CDET.jpg'\n",
            " '/content/drive/.shortcut-targets-by-id/1MN_MgyhaHPoUpQYCws4tOpGbXA-NfwN_/Official_Folder_for_CervAi/Data/CervAI2_minside300/val/ASC-US/ASC-US_03182_CDET.jpg'\n",
            " '/content/drive/.shortcut-targets-by-id/1MN_MgyhaHPoUpQYCws4tOpGbXA-NfwN_/Official_Folder_for_CervAi/Data/CervAI2_minside300/train/HSIL/HSIL_04238_CDET.jpg'\n",
            " '/content/drive/.shortcut-targets-by-id/1MN_MgyhaHPoUpQYCws4tOpGbXA-NfwN_/Official_Folder_for_CervAi/Data/CervAI2_minside300/train/SCC/SCC_01000_CDET.jpg'\n",
            " '/content/drive/.shortcut-targets-by-id/1MN_MgyhaHPoUpQYCws4tOpGbXA-NfwN_/Official_Folder_for_CervAi/Data/CervAI2_minside300/val/ASC-H/ASC-H_05877_CDET.jpg'\n",
            " '/content/drive/.shortcut-targets-by-id/1MN_MgyhaHPoUpQYCws4tOpGbXA-NfwN_/Official_Folder_for_CervAi/Data/CervAI2_minside300/train/HSIL/HSIL_03992_CDET.jpg'\n",
            " '/content/drive/.shortcut-targets-by-id/1MN_MgyhaHPoUpQYCws4tOpGbXA-NfwN_/Official_Folder_for_CervAi/Data/CervAI2_minside300/train/NILM/NILM_25_ (3)_MEND.jpg'\n",
            " '/content/drive/.shortcut-targets-by-id/1MN_MgyhaHPoUpQYCws4tOpGbXA-NfwN_/Official_Folder_for_CervAi/Data/CervAI2_minside300/train/LSIL/LSIL_02666_CDET.jpg'\n",
            " '/content/drive/.shortcut-targets-by-id/1MN_MgyhaHPoUpQYCws4tOpGbXA-NfwN_/Official_Folder_for_CervAi/Data/CervAI2_minside300/train/NILM/NILM_01149_CDET.jpg'\n",
            " '/content/drive/.shortcut-targets-by-id/1MN_MgyhaHPoUpQYCws4tOpGbXA-NfwN_/Official_Folder_for_CervAi/Data/CervAI2_minside300/train/HSIL/HSIL_05067_CDET.jpg'\n",
            " '/content/drive/.shortcut-targets-by-id/1MN_MgyhaHPoUpQYCws4tOpGbXA-NfwN_/Official_Folder_for_CervAi/Data/CervAI2_minside300/train/ASC-US/ASC-US_02201_CDET.jpg'\n",
            " '/content/drive/.shortcut-targets-by-id/1MN_MgyhaHPoUpQYCws4tOpGbXA-NfwN_/Official_Folder_for_CervAi/Data/CervAI2_minside300/train/LSIL/LSIL_02660_CDET.jpg'\n",
            " '/content/drive/.shortcut-targets-by-id/1MN_MgyhaHPoUpQYCws4tOpGbXA-NfwN_/Official_Folder_for_CervAi/Data/CervAI2_minside300/train/ASC-US/ASC-US_03179_CDET.jpg'\n",
            " '/content/drive/.shortcut-targets-by-id/1MN_MgyhaHPoUpQYCws4tOpGbXA-NfwN_/Official_Folder_for_CervAi/Data/CervAI2_minside300/train/NILM/NILM_24_ (7)_MEND.jpg'\n",
            " '/content/drive/.shortcut-targets-by-id/1MN_MgyhaHPoUpQYCws4tOpGbXA-NfwN_/Official_Folder_for_CervAi/Data/CervAI2_minside300/train/HSIL/HSIL_01486_CDET.jpg'\n",
            " '/content/drive/.shortcut-targets-by-id/1MN_MgyhaHPoUpQYCws4tOpGbXA-NfwN_/Official_Folder_for_CervAi/Data/CervAI2_minside300/train/SCC/SCC_1 (4)_MEND.jpg'\n",
            " '/content/drive/.shortcut-targets-by-id/1MN_MgyhaHPoUpQYCws4tOpGbXA-NfwN_/Official_Folder_for_CervAi/Data/CervAI2_minside300/val/NILM/NILM_14_ (6)_MEND.jpg'\n",
            " '/content/drive/.shortcut-targets-by-id/1MN_MgyhaHPoUpQYCws4tOpGbXA-NfwN_/Official_Folder_for_CervAi/Data/CervAI2_minside300/train/SCC/SCC_03761_CDET.jpg'\n",
            " '/content/drive/.shortcut-targets-by-id/1MN_MgyhaHPoUpQYCws4tOpGbXA-NfwN_/Official_Folder_for_CervAi/Data/CervAI2_minside300/train/ASC-US/ASC-US_03449_CDET.jpg'\n",
            " '/content/drive/.shortcut-targets-by-id/1MN_MgyhaHPoUpQYCws4tOpGbXA-NfwN_/Official_Folder_for_CervAi/Data/CervAI2_minside300/val/NILM/NILM_05610_CDET.jpg'\n",
            " '/content/drive/.shortcut-targets-by-id/1MN_MgyhaHPoUpQYCws4tOpGbXA-NfwN_/Official_Folder_for_CervAi/Data/CervAI2_minside300/train/ASC-H/ASC-H_07355_CDET.jpg'\n",
            " '/content/drive/.shortcut-targets-by-id/1MN_MgyhaHPoUpQYCws4tOpGbXA-NfwN_/Official_Folder_for_CervAi/Data/CervAI2_minside300/train/ASC-H/ASC-H_06339_CDET.jpg'\n",
            " '/content/drive/.shortcut-targets-by-id/1MN_MgyhaHPoUpQYCws4tOpGbXA-NfwN_/Official_Folder_for_CervAi/Data/CervAI2_minside300/train/HSIL/HSIL_04594_CDET.jpg'\n",
            " '/content/drive/.shortcut-targets-by-id/1MN_MgyhaHPoUpQYCws4tOpGbXA-NfwN_/Official_Folder_for_CervAi/Data/CervAI2_minside300/train/HSIL/HSIL_04918_CDET.jpg'\n",
            " '/content/drive/.shortcut-targets-by-id/1MN_MgyhaHPoUpQYCws4tOpGbXA-NfwN_/Official_Folder_for_CervAi/Data/CervAI2_minside300/train/SCC/SCC_05173_CDET.jpg'\n",
            " '/content/drive/.shortcut-targets-by-id/1MN_MgyhaHPoUpQYCws4tOpGbXA-NfwN_/Official_Folder_for_CervAi/Data/CervAI2_minside300/train/NILM/NILM_05411_CDET.jpg'\n",
            " '/content/drive/.shortcut-targets-by-id/1MN_MgyhaHPoUpQYCws4tOpGbXA-NfwN_/Official_Folder_for_CervAi/Data/CervAI2_minside300/train/LSIL/LSIL_02684_CDET.jpg'\n",
            " '/content/drive/.shortcut-targets-by-id/1MN_MgyhaHPoUpQYCws4tOpGbXA-NfwN_/Official_Folder_for_CervAi/Data/CervAI2_minside300/train/HSIL/HSIL_06031_CDET.jpg'\n",
            " '/content/drive/.shortcut-targets-by-id/1MN_MgyhaHPoUpQYCws4tOpGbXA-NfwN_/Official_Folder_for_CervAi/Data/CervAI2_minside300/val/SCC/SCC_86_CRIC.jpg'\n",
            " '/content/drive/.shortcut-targets-by-id/1MN_MgyhaHPoUpQYCws4tOpGbXA-NfwN_/Official_Folder_for_CervAi/Data/CervAI2_minside300/train/ASC-US/ASC-US_02726_CDET.jpg'\n",
            " '/content/drive/.shortcut-targets-by-id/1MN_MgyhaHPoUpQYCws4tOpGbXA-NfwN_/Official_Folder_for_CervAi/Data/CervAI2_minside300/train/ASC-H/ASC-H_07348_CDET.jpg'\n",
            " '/content/drive/.shortcut-targets-by-id/1MN_MgyhaHPoUpQYCws4tOpGbXA-NfwN_/Official_Folder_for_CervAi/Data/CervAI2_minside300/train/SCC/SCC_02268_CDET.jpg'\n",
            " '/content/drive/.shortcut-targets-by-id/1MN_MgyhaHPoUpQYCws4tOpGbXA-NfwN_/Official_Folder_for_CervAi/Data/CervAI2_minside300/train/ASC-US/ASC-US_01592_CDET.jpg'\n",
            " '/content/drive/.shortcut-targets-by-id/1MN_MgyhaHPoUpQYCws4tOpGbXA-NfwN_/Official_Folder_for_CervAi/Data/CervAI2_minside300/train/ASC-H/ASC-H_05250_CDET.jpg'\n",
            " '/content/drive/.shortcut-targets-by-id/1MN_MgyhaHPoUpQYCws4tOpGbXA-NfwN_/Official_Folder_for_CervAi/Data/CervAI2_minside300/train/HSIL/HSIL_04655_CDET.jpg'\n",
            " '/content/drive/.shortcut-targets-by-id/1MN_MgyhaHPoUpQYCws4tOpGbXA-NfwN_/Official_Folder_for_CervAi/Data/CervAI2_minside300/train/LSIL/LSIL_321_CRIC.jpg'\n",
            " '/content/drive/.shortcut-targets-by-id/1MN_MgyhaHPoUpQYCws4tOpGbXA-NfwN_/Official_Folder_for_CervAi/Data/CervAI2_minside300/val/ASC-US/ASC-US_221_CRIC.jpg'\n",
            " '/content/drive/.shortcut-targets-by-id/1MN_MgyhaHPoUpQYCws4tOpGbXA-NfwN_/Official_Folder_for_CervAi/Data/CervAI2_minside300/train/ASC-US/ASC-US_01600_CDET.jpg'\n",
            " '/content/drive/.shortcut-targets-by-id/1MN_MgyhaHPoUpQYCws4tOpGbXA-NfwN_/Official_Folder_for_CervAi/Data/CervAI2_minside300/train/ASC-US/ASC-US_01596_CDET.jpg'\n",
            " '/content/drive/.shortcut-targets-by-id/1MN_MgyhaHPoUpQYCws4tOpGbXA-NfwN_/Official_Folder_for_CervAi/Data/CervAI2_minside300/train/SCC/SCC_101_CRIC.jpg'\n",
            " '/content/drive/.shortcut-targets-by-id/1MN_MgyhaHPoUpQYCws4tOpGbXA-NfwN_/Official_Folder_for_CervAi/Data/CervAI2_minside300/train/LSIL/LSIL_166_CRIC.jpg'\n",
            " '/content/drive/.shortcut-targets-by-id/1MN_MgyhaHPoUpQYCws4tOpGbXA-NfwN_/Official_Folder_for_CervAi/Data/CervAI2_minside300/train/ASC-US/ASC-US_02682_CDET.jpg'\n",
            " '/content/drive/.shortcut-targets-by-id/1MN_MgyhaHPoUpQYCws4tOpGbXA-NfwN_/Official_Folder_for_CervAi/Data/CervAI2_minside300/train/ASC-US/ASC-US_03200_CDET.jpg'\n",
            " '/content/drive/.shortcut-targets-by-id/1MN_MgyhaHPoUpQYCws4tOpGbXA-NfwN_/Official_Folder_for_CervAi/Data/CervAI2_minside300/train/ASC-H/ASC-H_05657_CDET.jpg'\n",
            " '/content/drive/.shortcut-targets-by-id/1MN_MgyhaHPoUpQYCws4tOpGbXA-NfwN_/Official_Folder_for_CervAi/Data/CervAI2_minside300/train/LSIL/LSIL_06933_CDET.jpg'\n",
            " '/content/drive/.shortcut-targets-by-id/1MN_MgyhaHPoUpQYCws4tOpGbXA-NfwN_/Official_Folder_for_CervAi/Data/CervAI2_minside300/train/NILM/NILM_21_ (2)_MEND.jpg'\n",
            " '/content/drive/.shortcut-targets-by-id/1MN_MgyhaHPoUpQYCws4tOpGbXA-NfwN_/Official_Folder_for_CervAi/Data/CervAI2_minside300/train/ASC-US/ASC-US_01250_CDET.jpg'\n",
            " '/content/drive/.shortcut-targets-by-id/1MN_MgyhaHPoUpQYCws4tOpGbXA-NfwN_/Official_Folder_for_CervAi/Data/CervAI2_minside300/train/SCC/SCC_3 (11)_MEND.jpg'\n",
            " '/content/drive/.shortcut-targets-by-id/1MN_MgyhaHPoUpQYCws4tOpGbXA-NfwN_/Official_Folder_for_CervAi/Data/CervAI2_minside300/train/LSIL/LSIL_2 (17)_MEND.jpg'\n",
            " '/content/drive/.shortcut-targets-by-id/1MN_MgyhaHPoUpQYCws4tOpGbXA-NfwN_/Official_Folder_for_CervAi/Data/CervAI2_minside300/train/NILM/NILM_34_ (8)_MEND.jpg'\n",
            " '/content/drive/.shortcut-targets-by-id/1MN_MgyhaHPoUpQYCws4tOpGbXA-NfwN_/Official_Folder_for_CervAi/Data/CervAI2_minside300/train/NILM/NILM_19_ (9)_MEND.jpg'\n",
            " '/content/drive/.shortcut-targets-by-id/1MN_MgyhaHPoUpQYCws4tOpGbXA-NfwN_/Official_Folder_for_CervAi/Data/CervAI2_minside300/train/ASC-US/ASC-US_06629_CDET.jpg'\n",
            " '/content/drive/.shortcut-targets-by-id/1MN_MgyhaHPoUpQYCws4tOpGbXA-NfwN_/Official_Folder_for_CervAi/Data/CervAI2_minside300/train/ASC-H/ASC-H_04782_CDET.jpg'\n",
            " '/content/drive/.shortcut-targets-by-id/1MN_MgyhaHPoUpQYCws4tOpGbXA-NfwN_/Official_Folder_for_CervAi/Data/CervAI2_minside300/train/SCC/SCC_03792_CDET.jpg'\n",
            " '/content/drive/.shortcut-targets-by-id/1MN_MgyhaHPoUpQYCws4tOpGbXA-NfwN_/Official_Folder_for_CervAi/Data/CervAI2_minside300/train/ASC-H/ASC-H_01218_CDET.jpg'\n",
            " '/content/drive/.shortcut-targets-by-id/1MN_MgyhaHPoUpQYCws4tOpGbXA-NfwN_/Official_Folder_for_CervAi/Data/CervAI2_minside300/val/HSIL/HSIL_00554_CDET.jpg'\n",
            " '/content/drive/.shortcut-targets-by-id/1MN_MgyhaHPoUpQYCws4tOpGbXA-NfwN_/Official_Folder_for_CervAi/Data/CervAI2_minside300/train/LSIL/LSIL_02181_CDET.jpg'\n",
            " '/content/drive/.shortcut-targets-by-id/1MN_MgyhaHPoUpQYCws4tOpGbXA-NfwN_/Official_Folder_for_CervAi/Data/CervAI2_minside300/train/LSIL/LSIL_03171_CDET.jpg'\n",
            " '/content/drive/.shortcut-targets-by-id/1MN_MgyhaHPoUpQYCws4tOpGbXA-NfwN_/Official_Folder_for_CervAi/Data/CervAI2_minside300/train/LSIL/LSIL_3 (15)_MEND.jpg'\n",
            " '/content/drive/.shortcut-targets-by-id/1MN_MgyhaHPoUpQYCws4tOpGbXA-NfwN_/Official_Folder_for_CervAi/Data/CervAI2_minside300/val/ASC-H/ASC-H_05633_CDET.jpg'\n",
            " '/content/drive/.shortcut-targets-by-id/1MN_MgyhaHPoUpQYCws4tOpGbXA-NfwN_/Official_Folder_for_CervAi/Data/CervAI2_minside300/train/SCC/SCC_05147_CDET.jpg'\n",
            " '/content/drive/.shortcut-targets-by-id/1MN_MgyhaHPoUpQYCws4tOpGbXA-NfwN_/Official_Folder_for_CervAi/Data/CervAI2_minside300/train/HSIL/HSIL_02940_CDET.jpg'\n",
            " '/content/drive/.shortcut-targets-by-id/1MN_MgyhaHPoUpQYCws4tOpGbXA-NfwN_/Official_Folder_for_CervAi/Data/CervAI2_minside300/train/SCC/SCC_05165_CDET.jpg'\n",
            " '/content/drive/.shortcut-targets-by-id/1MN_MgyhaHPoUpQYCws4tOpGbXA-NfwN_/Official_Folder_for_CervAi/Data/CervAI2_minside300/train/HSIL/HSIL_05108_CDET.jpg'\n",
            " '/content/drive/.shortcut-targets-by-id/1MN_MgyhaHPoUpQYCws4tOpGbXA-NfwN_/Official_Folder_for_CervAi/Data/CervAI2_minside300/train/HSIL/HSIL_03930_CDET.jpg'\n",
            " '/content/drive/.shortcut-targets-by-id/1MN_MgyhaHPoUpQYCws4tOpGbXA-NfwN_/Official_Folder_for_CervAi/Data/CervAI2_minside300/train/LSIL/LSIL_06139_CDET.jpg'\n",
            " '/content/drive/.shortcut-targets-by-id/1MN_MgyhaHPoUpQYCws4tOpGbXA-NfwN_/Official_Folder_for_CervAi/Data/CervAI2_minside300/train/SCC/SCC_05154_CDET.jpg'\n",
            " '/content/drive/.shortcut-targets-by-id/1MN_MgyhaHPoUpQYCws4tOpGbXA-NfwN_/Official_Folder_for_CervAi/Data/CervAI2_minside300/train/ASC-H/ASC-H_05835_CDET.jpg'\n",
            " '/content/drive/.shortcut-targets-by-id/1MN_MgyhaHPoUpQYCws4tOpGbXA-NfwN_/Official_Folder_for_CervAi/Data/CervAI2_minside300/val/NILM/NILM_01062_CDET.jpg'\n",
            " '/content/drive/.shortcut-targets-by-id/1MN_MgyhaHPoUpQYCws4tOpGbXA-NfwN_/Official_Folder_for_CervAi/Data/CervAI2_minside300/val/NILM/NILM_05322_CDET.jpg'\n",
            " '/content/drive/.shortcut-targets-by-id/1MN_MgyhaHPoUpQYCws4tOpGbXA-NfwN_/Official_Folder_for_CervAi/Data/CervAI2_minside300/val/ASC-US/ASC-US_01241_CDET.jpg'\n",
            " '/content/drive/.shortcut-targets-by-id/1MN_MgyhaHPoUpQYCws4tOpGbXA-NfwN_/Official_Folder_for_CervAi/Data/CervAI2_minside300/train/ASC-H/ASC-H_06569_CDET.jpg'\n",
            " '/content/drive/.shortcut-targets-by-id/1MN_MgyhaHPoUpQYCws4tOpGbXA-NfwN_/Official_Folder_for_CervAi/Data/CervAI2_minside300/train/NILM/NILM_00948_CDET.jpg'\n",
            " '/content/drive/.shortcut-targets-by-id/1MN_MgyhaHPoUpQYCws4tOpGbXA-NfwN_/Official_Folder_for_CervAi/Data/CervAI2_minside300/train/ASC-US/ASC-US_04085_CDET.jpg'\n",
            " '/content/drive/.shortcut-targets-by-id/1MN_MgyhaHPoUpQYCws4tOpGbXA-NfwN_/Official_Folder_for_CervAi/Data/CervAI2_minside300/train/NILM/NILM_37_ (13)_MEND.jpg'\n",
            " '/content/drive/.shortcut-targets-by-id/1MN_MgyhaHPoUpQYCws4tOpGbXA-NfwN_/Official_Folder_for_CervAi/Data/CervAI2_minside300/val/LSIL/LSIL_3 (2)_MEND.jpg'\n",
            " '/content/drive/.shortcut-targets-by-id/1MN_MgyhaHPoUpQYCws4tOpGbXA-NfwN_/Official_Folder_for_CervAi/Data/CervAI2_minside300/train/LSIL/LSIL_06932_CDET.jpg'\n",
            " '/content/drive/.shortcut-targets-by-id/1MN_MgyhaHPoUpQYCws4tOpGbXA-NfwN_/Official_Folder_for_CervAi/Data/CervAI2_minside300/train/ASC-US/ASC-US_04608_CDET.jpg'\n",
            " '/content/drive/.shortcut-targets-by-id/1MN_MgyhaHPoUpQYCws4tOpGbXA-NfwN_/Official_Folder_for_CervAi/Data/CervAI2_minside300/train/SCC/SCC_02326_CDET.jpg'\n",
            " '/content/drive/.shortcut-targets-by-id/1MN_MgyhaHPoUpQYCws4tOpGbXA-NfwN_/Official_Folder_for_CervAi/Data/CervAI2_minside300/val/LSIL/LSIL_06469_CDET.jpg'\n",
            " '/content/drive/.shortcut-targets-by-id/1MN_MgyhaHPoUpQYCws4tOpGbXA-NfwN_/Official_Folder_for_CervAi/Data/CervAI2_minside300/train/ASC-H/ASC-H_04295_CDET.jpg'\n",
            " '/content/drive/.shortcut-targets-by-id/1MN_MgyhaHPoUpQYCws4tOpGbXA-NfwN_/Official_Folder_for_CervAi/Data/CervAI2_minside300/train/ASC-H/ASC-H_00446_CDET.jpg'\n",
            " '/content/drive/.shortcut-targets-by-id/1MN_MgyhaHPoUpQYCws4tOpGbXA-NfwN_/Official_Folder_for_CervAi/Data/CervAI2_minside300/train/NILM/NILM_29_ (7)_MEND.jpg'\n",
            " '/content/drive/.shortcut-targets-by-id/1MN_MgyhaHPoUpQYCws4tOpGbXA-NfwN_/Official_Folder_for_CervAi/Data/CervAI2_minside300/train/NILM/NILM_00913_CDET.jpg'\n",
            " '/content/drive/.shortcut-targets-by-id/1MN_MgyhaHPoUpQYCws4tOpGbXA-NfwN_/Official_Folder_for_CervAi/Data/CervAI2_minside300/train/LSIL/LSIL_02666_CDET.jpg'\n",
            " '/content/drive/.shortcut-targets-by-id/1MN_MgyhaHPoUpQYCws4tOpGbXA-NfwN_/Official_Folder_for_CervAi/Data/CervAI2_minside300/train/HSIL/HSIL_05270_CDET.jpg'\n",
            " '/content/drive/.shortcut-targets-by-id/1MN_MgyhaHPoUpQYCws4tOpGbXA-NfwN_/Official_Folder_for_CervAi/Data/CervAI2_minside300/train/LSIL/LSIL_01184_CDET.jpg'\n",
            " '/content/drive/.shortcut-targets-by-id/1MN_MgyhaHPoUpQYCws4tOpGbXA-NfwN_/Official_Folder_for_CervAi/Data/CervAI2_minside300/train/ASC-H/ASC-H_83_CRIC.jpg'\n",
            " '/content/drive/.shortcut-targets-by-id/1MN_MgyhaHPoUpQYCws4tOpGbXA-NfwN_/Official_Folder_for_CervAi/Data/CervAI2_minside300/train/LSIL/LSIL_03167_CDET.jpg'\n",
            " '/content/drive/.shortcut-targets-by-id/1MN_MgyhaHPoUpQYCws4tOpGbXA-NfwN_/Official_Folder_for_CervAi/Data/CervAI2_minside300/val/ASC-US/ASC-US_01245_CDET.jpg'\n",
            " '/content/drive/.shortcut-targets-by-id/1MN_MgyhaHPoUpQYCws4tOpGbXA-NfwN_/Official_Folder_for_CervAi/Data/CervAI2_minside300/train/HSIL/HSIL_02770_CDET.jpg'\n",
            " '/content/drive/.shortcut-targets-by-id/1MN_MgyhaHPoUpQYCws4tOpGbXA-NfwN_/Official_Folder_for_CervAi/Data/CervAI2_minside300/val/ASC-US/ASC-US_01317_CDET.jpg'\n",
            " '/content/drive/.shortcut-targets-by-id/1MN_MgyhaHPoUpQYCws4tOpGbXA-NfwN_/Official_Folder_for_CervAi/Data/CervAI2_minside300/train/SCC/SCC_00239_CDET.jpg']\n"
          ]
        }
      ]
    },
    {
      "cell_type": "markdown",
      "metadata": {
        "id": "eUWDNKYbhmqj"
      },
      "source": [
        "## convert labels to one hot encoding"
      ]
    },
    {
      "cell_type": "code",
      "execution_count": null,
      "metadata": {
        "colab": {
          "base_uri": "https://localhost:8080/"
        },
        "id": "j63f74IHhaWT",
        "outputId": "e4a45597-b4e8-46db-e836-530182fb3d33"
      },
      "outputs": [
        {
          "output_type": "stream",
          "name": "stdout",
          "text": [
            "[[0]\n",
            " [1]\n",
            " [2]\n",
            " [3]\n",
            " [4]\n",
            " [5]]\n",
            "[[1. 0. 0. 0. 0. 0.]\n",
            " [0. 0. 1. 0. 0. 0.]\n",
            " [0. 0. 0. 0. 1. 0.]\n",
            " [1. 0. 0. 0. 0. 0.]\n",
            " [1. 0. 0. 0. 0. 0.]]\n"
          ]
        }
      ],
      "source": [
        "#we convert our integer labels into one-hot encoded format so the models can better learn the expected output\n",
        "# this also lets us output probabilites for each class\n",
        "\n",
        "\n",
        "from sklearn.preprocessing import OneHotEncoder\n",
        "# input_labels = [0,1,2,3,4,5]\n",
        "enc = OneHotEncoder(handle_unknown='error')\n",
        "#we fit the one-hot encoder on the existing input data\n",
        "enc.fit(all_image_labels_mixed_num.reshape(-1, 1)) \n",
        "\n",
        "#transform our image labels from class integers to one-hot format\n",
        "y_train_mi_oh =  enc.transform(y_train_mi.reshape(-1, 1)).toarray()\n",
        "y_val_1_mi_oh =  enc.transform(y_val_1_mi.reshape(-1, 1)).toarray()\n",
        "# y_val_2_mi_oh =  enc.transform(y_val_2_mi.reshape(-1, 1)).toarray()\n",
        "\n",
        "\n",
        "#we test the 6 possible one-hot encoded labels to make sure they map back to the correct bethesda class\n",
        "testing = [[1,0,0,0,0,0],\n",
        "           [0,1,0,0,0,0],\n",
        "           [0,0,1,0,0,0],\n",
        "           [0,0,0,1,0,0],\n",
        "           [0,0,0,0,1,0],\n",
        "           [0,0,0,0,0,1]]\n",
        "testing_inv = enc.inverse_transform(testing)\n",
        "print(testing_inv)\n",
        "print(y_train_mi_oh[0:5])\n",
        "# one_hot_labels[0:5]"
      ]
    },
    {
      "cell_type": "markdown",
      "metadata": {
        "id": "rUxI4y7OsR75"
      },
      "source": [
        "## define our transformations here\n",
        "\n",
        "Now we define the transformations that will be applied to the images before they are fed into the model.\n",
        "\n",
        "We use the albumentations library which allows us to chain together image transformations. \n",
        "\n",
        "We define a desired image size and then we apply a resizing transformation to make the images smaller (to speed up mode training time). We then apply a number of image augmentations which serve to make the training data more varied and hopefully cause the model to learn different features of interest fro mthe input images depending on which image augmentations were applied.\n"
      ]
    },
    {
      "cell_type": "code",
      "execution_count": null,
      "metadata": {
        "id": "QSQUnO4Or0Mc"
      },
      "outputs": [],
      "source": [
        "TARGET_ASPECT_RATIO = 1.5\n",
        "TARGET_LONGEST_SIDE = 300\n",
        "#we define target dimensions of the image to be passed into the model by setting desired longest size \n",
        "#(normally width) of the image and also the desired aspect ratio. Aspect ratio was chosen to try and minimise distortion for the most number of images\n",
        "TARGET_DIMS = (int(TARGET_LONGEST_SIDE/TARGET_ASPECT_RATIO),TARGET_LONGEST_SIDE)\n",
        "\n",
        "# We define the resizing transformation\n",
        "# A.LongestMaxSize - shrinks image maintaining aspect ratio\n",
        "# We apply a horizontal or vertical flip so the model does not learn to just look at certain parts of the image\n",
        "# Then we squash the height to finally get the required image dimensions\n",
        "\n",
        "resize_tr = A.Compose([\n",
        "    A.LongestMaxSize(max_size=TARGET_DIMS[1],p=1,interpolation=cv2.INTER_LANCZOS4),\n",
        "    A.OneOf([\n",
        "      A.VerticalFlip(p=0.5),\n",
        "      A.HorizontalFlip(p=0.5)]),\n",
        "    A.Resize(TARGET_DIMS[0],TARGET_DIMS[1])\n",
        "    ])\n",
        "\n",
        "#Now we define our image augmentations transformations\n",
        "#We choose one of \n",
        "# A.GaussianBlur - blurs the image, reproducing the effect of less detailed microscopes/scanners and hopefully forcing the model to look at general colours and nuclei as cell borders are blurred away\n",
        "# A.Emboss - highlights the edges in an image. Hopefully forces the model to consider cell and nuclei shape\n",
        "# A.Sharpen - also highlights edges and makes colours more distinct. \n",
        "transform_mi = A.Compose([\n",
        "     A.OneOf([\n",
        "      A.GaussianBlur(blur_limit=(1, 3), sigma_limit=0, p=0.3),\n",
        "      A.Emboss(alpha=(0.2, 0.4), strength=(0.2, 0.6),p=0.3),\n",
        "      A.Sharpen(alpha=(0.2, 0.4), lightness=(0.5, 1), p =0.3),\n",
        "     ])\n",
        "])\n",
        "\n"
      ]
    },
    {
      "cell_type": "markdown",
      "metadata": {
        "id": "uTwZJxvVl9W3"
      },
      "source": [
        "## define functions to convert train/val/test to tf datasets and then make datasets:"
      ]
    },
    {
      "cell_type": "code",
      "execution_count": null,
      "metadata": {
        "id": "HBDq-KiSXz0-"
      },
      "outputs": [],
      "source": [
        "def make_processed_tf_dataset(filepaths,labels,aug_transform,resized_transform):\n",
        "    '''\n",
        "\n",
        "    This function takes array of filepaths and labels and applies parallel processing to load and transform images \n",
        "    and then output datasets in the tensorflow.Data format ready to be fed into the machine learning model.\n",
        "\n",
        "    N.b - due to the way the function is constructed to make use of parallel processing, the sub-functions used inside this function\n",
        "    are defined inside the general function. Errors are thrown when the sub-functions are defined outside of the top level function\n",
        "\n",
        "    N.b2 - Currently the best performing model was not using edge detection added to the original images. \n",
        "    The code to apply edge detection will be left in the function even though it is not currently being used in case it is desired to enable this behaviour at a later date.\n",
        "\n",
        "    Inputs: \n",
        "    filepath array, label array: - numpy arrays of paths to the image files and associated one-hot encoded labels\n",
        "    aug_transform:  An albumentations pipeline to apply image augmentation transformations\n",
        "    resized_transform: An albumentations pipeline to apply image resizing\n",
        "    \n",
        "    Outputs: a tensorflow dataset containing both transformed images and associated one-hot encoded labels\n",
        "    '''\n",
        "    def image_edge(image_in):\n",
        "      '''\n",
        "      N.B - This function not currently used in final model. Included for future reference.\n",
        "\n",
        "      This function will take an inut image and return an image mask showing the edges in the original image in white against a black background\n",
        "      \n",
        "      Inputs:\n",
        "      image_in - np array of an image to have edge detection applied\n",
        "\n",
        "      Outputs: \n",
        "      An array corresponding to an image mask showing edge detection having the same dimensions as the input image\n",
        "      '''\n",
        "\n",
        "      #define a pixel value to highlight the edges\n",
        "      edge_colour = 255\n",
        "\n",
        "      #automatic parameter estimation for general good performance - better edge detection performance but takes longer to train model for first epoch as median pxiel value for each input image must be calculated \n",
        "      v = np.median(image_in) # get median pixel value of input image\n",
        "\n",
        "      #fixed parameters - looked at median pixel value for 200 images from training set, took the average. Faster model training as v does not need to be calculated for each image\n",
        "      # v = 244\n",
        "\n",
        "      #define parameters for cv2.Canny function including upper and lower thresholds\n",
        "      sigma = 0.33\n",
        "      t_lower = int(max(0, (0.6 - sigma) * v))  # Lower Threshold - was int(max(0, (1.0 - sigma) * v))\n",
        "      t_upper = int(min(255, (1.0 + sigma) * v))  # Upper threshold - was int(min(255, (1.0 + sigma) * v))\n",
        "\n",
        "      #apply edge detection\n",
        "      image_in = image_in.astype(np.uint8) #convert to correct data type to apply canny function\n",
        "      edges = cv2.Canny(image_in, threshold1 = t_lower,threshold2=t_upper,L2gradient = True) #make image mask with edges\n",
        "      edges_out = np.where(edges > 15, edge_colour, edges) # we amplify the generated edges by setting any pixel greater than a threshold as the output colour\n",
        "\n",
        "      #we stack the generated edges across three dimensions to make an RGB output image\n",
        "      edges_out_rgb = np.dstack((edges_out,edges_out,edges_out)) \n",
        "\n",
        "      #if we require edges to only be present in one of the RGB channels, we can do the following\n",
        "      # blank = np.zeros((image_in.shape[0],image_in.shape[1])) # create an array of zeroes macthing the input image size\n",
        "      # edges_out_rgb = np.dstack((blank,blank,edges_out)) #this creates an RGB output image where the edges are highlighted in the red channel\n",
        "      \n",
        "      return(edges_out_rgb)\n",
        "\n",
        "    def parse_image(filename):\n",
        "        '''\n",
        "\n",
        "        This function will read an image from a filepath and return a resized and augmented image. \n",
        "\n",
        "        Input: path to image\n",
        "        Output: transformed/resized numpy array corresponding to an altered image\n",
        "        '''\n",
        "        tf_filename = tf.io.read_file(filename) #read filename\n",
        "        image = tf.io.decode_image(tf_filename, channels=3) #decode the image depending on image type\n",
        "        np_image = image.numpy().astype(np.float32)  #convert to np array for faster processing\n",
        "\n",
        "        resized_image = resized_transform(image=np_image)['image'] #apply the resizing transformation\n",
        "        # edges_from_resized = image_edge(resized_image).astype(np.float32) #get edges from resized image\n",
        "        aug_image = aug_transform(image=resized_image)['image'].astype(np.float32) #apply other augmentations to resized image\n",
        "\n",
        "        #normalise the augmented image if needed\n",
        "        # aug_image_norm = np.fix(aug_image * 155/255)\n",
        "\n",
        "        #if using edges we combine the augmented images and the edges (better to use cv2.add vs np.concat as if using np.concat is value > 255 , modulo is taken. eg 275 -> 20. Wheras cv2.add if value > 255 , just gets set to 255)\n",
        "        # combined_image = cv2.add(aug_image,edges_from_resized)\n",
        "\n",
        "        #it is possible to add the edges as a 4th channel if needed but this makes it more difficult to use pre-trained models as they normally expect 3 input channels\n",
        "        # stacked_image = np.dstack((aug_image,edges))\n",
        "        \n",
        "        #we apply preprocessing specific to the best performing model (in the case of xception model - normalise to (-1,1))\n",
        "        image_out = tf.keras.applications.xception.preprocess_input(aug_image)\n",
        "        return image_out\n",
        "\n",
        "    #This function serves to warp the above parse_image function so that we can use tensorflow parellal processing\n",
        "    def tf_parse_image(input):\n",
        "        y = tf.numpy_function(parse_image, [input],tf.float32) \n",
        "        return y \n",
        "\n",
        "    #make dataset of filenames\n",
        "    filenames_ds = tf.data.Dataset.from_tensor_slices(filepaths) \n",
        "\n",
        "    #we process list of filenames in a parallel fashion to be turned into resized and augmented images\n",
        "    images_ds = filenames_ds.map(lambda x: tf_parse_image(x), num_parallel_calls=tf.data.experimental.AUTOTUNE) #maps parse image function to filenames dataset to create images\n",
        "    \n",
        "    #we turn the labels into a tensorflow dataset\n",
        "    labels_ds = tf.data.Dataset.from_tensor_slices(labels.astype(float)) #make ds of labels\n",
        "    \n",
        "    #we zip the images and labels so from one index we can access both the image and the label\n",
        "    ds_out = tf.data.Dataset.zip((images_ds, labels_ds))\n",
        "    return ds_out\n",
        "  "
      ]
    },
    {
      "cell_type": "code",
      "execution_count": null,
      "metadata": {
        "colab": {
          "base_uri": "https://localhost:8080/"
        },
        "id": "oKjBpskVtGwS",
        "outputId": "30d6e0b1-790c-4bc6-b986-35b7a40f3bbc"
      },
      "outputs": [
        {
          "output_type": "stream",
          "name": "stdout",
          "text": [
            "mixed datasets created\n"
          ]
        }
      ],
      "source": [
        "#we create the tensorflow datasets\n",
        "#make mixed datasets\n",
        "train_ds_mixed = make_processed_tf_dataset(x_train_mi,y_train_mi_oh, transform_mi, resize_tr)\n",
        "val_ds_1_mixed = make_processed_tf_dataset(x_val_1_mi,y_val_1_mi_oh, transform_mi, resize_tr)\n",
        "# val_ds_2_mixed = make_processed_tf_dataset(x_val_2_mi,y_val_2_mi_oh, transform_mi, resize_tr)\n",
        "\n",
        "print('mixed datasets created')"
      ]
    },
    {
      "cell_type": "code",
      "execution_count": null,
      "metadata": {
        "id": "mxvWao8trh-A"
      },
      "outputs": [],
      "source": [
        "#make optimised datasets\n",
        "def configure_for_performance(ds,batch_size): #takes tensor dataset as input and optimises for repeated calls \n",
        "    '''\n",
        "    This function batches and otherwise optimises the tensorflow datasets so that our model training can be more efficient in terms of dataflow\n",
        "    '''\n",
        "    ds = ds.shuffle(buffer_size = 500,reshuffle_each_iteration=True).repeat() #reshuffle each epoch to hopefully speed up training\n",
        "    ds = ds.batch(batch_size)\n",
        "    ds = ds.prefetch(buffer_size=tf.data.experimental.AUTOTUNE) #whilst model is training on n batches , we load the next batches to be passed into the model into memory\n",
        "    return ds\n",
        "\n",
        "#set the batch size and make the optimised datasets\n",
        "BATCH_SIZE = 64\n",
        "\n",
        "train_ds_mixed_opt = configure_for_performance(train_ds_mixed,BATCH_SIZE)\n",
        "val_ds_mixed_opt = configure_for_performance(val_ds_1_mixed,BATCH_SIZE)"
      ]
    },
    {
      "cell_type": "markdown",
      "metadata": {
        "id": "FEsrDvh8WDs2"
      },
      "source": [
        "## Define helper functions:\n",
        "\n",
        "We define a number of helper functions to assist in evaluating the model training, add custom metrics to the training process, make predictions from the trained model and then use those predictions to evalaute how the model is performing. \n"
      ]
    },
    {
      "cell_type": "code",
      "execution_count": null,
      "metadata": {
        "id": "9s_EEQ0MWKqc"
      },
      "outputs": [],
      "source": [
        "#define specifcity metric whilst training\n",
        "def specificity(y_true, y_pred):\n",
        "    true_negatives = K.sum(K.round(K.clip((1-y_true) * (1-y_pred), 0, 1)))\n",
        "    possible_negatives = K.sum(K.round(K.clip(1-y_true, 0, 1)))\n",
        "    return true_negatives / (possible_negatives + K.epsilon())"
      ]
    },
    {
      "cell_type": "code",
      "execution_count": null,
      "metadata": {
        "id": "GZjS82ozWeRc"
      },
      "outputs": [],
      "source": [
        "def show_training_metrics(trained_model, history):\n",
        "\n",
        "  '''\n",
        "  This function takes a trained model tensorflow object and associated model training history.\n",
        "  It loops through all of the metrics logged during training and displays how they changed during the training process. \n",
        "  '''\n",
        "  epochs_range = range(len(history.history['loss']))\n",
        "  metrics_list = []\n",
        "  best_metrics_dict = {}\n",
        "\n",
        "  hist_val_cat_acc = history.history['val_cat_accuracy']\n",
        "  best_index = np.argmax(np.asarray(hist_val_cat_acc))\n",
        "\n",
        "  #loop through metrics and get last value for validation set for each metric\n",
        "  for metric in trained_model.metrics_names:\n",
        "    temp_metric = history.history[metric]\n",
        "    temp_metric_val = history.history['val_'+metric]\n",
        "    best_metrics_dict['val_'+metric] = round(temp_metric_val[best_index],3)\n",
        "\n",
        "    metrics_list.append(temp_metric_val[-1])\n",
        "    plt.figure(figsize=(8, 8))\n",
        "    plt.plot(epochs_range, temp_metric, label=f'Training {metric}')\n",
        "    plt.plot(epochs_range, temp_metric_val, label=f'Validation {metric}')\n",
        "    plt.grid(visible=True)\n",
        "    plt.title(f'Training and Validation {metric}')\n",
        "    plt.show()\n",
        "\n",
        "  #show metrics to add to spreadsheet\n",
        "  # print(np.around(metrics_list[1:],decimals=4))\n",
        "  print(best_metrics_dict)\n",
        "\n",
        "  return best_metrics_dict\n"
      ]
    },
    {
      "cell_type": "code",
      "execution_count": null,
      "metadata": {
        "id": "z0LyRkzo69KD"
      },
      "outputs": [],
      "source": [
        "def get_oh_preds_class_label(input_ds, trained_model):\n",
        "\n",
        "  '''\n",
        "  Takes an input tensorflow dataset (unbatched) (usually validation set) and makes predictions on the images\n",
        "  Assumption: input dataset has had the same preprocessing steps applied as were used on the training set when training the model\n",
        "\n",
        "  Inputs: \n",
        "  input_ds: a tensorflow dataset with images and one hot labels\n",
        "  trained_model: a tensorflow model object which has completed model training\n",
        "\n",
        "  Outputs:\n",
        "  numpy arrays of y_trues_oh, y_preds_oh representing actual and predicted one hot labels for the input_ds\n",
        "  '''\n",
        "\n",
        "  #define empty lists\n",
        "  y_preds_oh = []\n",
        "  y_trues_oh = []\n",
        "\n",
        "  #make val images into single batch as model expects batched input\n",
        "  input_ds_batched = input_ds.batch(64)\n",
        "\n",
        "  #generate predictions for all images within inout dataset\n",
        "  # temp_y_preds = trained_model.predict(input_ds_batched)\n",
        "  temp_y_preds = trained_model.predict(input_ds_batched)\n",
        "\n",
        "  #loop thrugh predictions\n",
        "  for pred in temp_y_preds:\n",
        "    #convert softmax prediction into one hot\n",
        "    temp_array = np.zeros(6)\n",
        "    temp_array[np.argmax(pred)]=1\n",
        "    single_pred = temp_array\n",
        "\n",
        "    #append single prediction to output list\n",
        "    y_preds_oh.append(single_pred)\n",
        "  \n",
        "  #loop through input_ds and get true class labels\n",
        "  y_trues_oh = [np.asarray(y) for x, y in input_ds]\n",
        "\n",
        "  return y_trues_oh,y_preds_oh"
      ]
    },
    {
      "cell_type": "code",
      "execution_count": null,
      "metadata": {
        "id": "Xu-GbMyS8IZu"
      },
      "outputs": [],
      "source": [
        "def eval_predictions(true_class_vals,pred_class_vals,model_type):\n",
        "  '''\n",
        "  This function compares actual class labels vs predicted class labels , and shows a confusion matrix and some metrics\n",
        "\n",
        "  Inputs:\n",
        "  true_class_vals,pred_class_vals : numpy arrays of integer encoded class labels \n",
        "  model_type: string used to title the confusion matrix\n",
        "  '''\n",
        "  cm1 = cm(true_class_vals, pred_class_vals)\n",
        "  print(cm1)\n",
        "  labels = ['NL', 'ASC-US', 'ASC-H','LSIL','HSIL','SCC']\n",
        "  fig = plt.figure(figsize=(6,6))\n",
        "  ax = fig.add_subplot(111)\n",
        "  plt.title(f'Confusion matrix of the {model_type}')\n",
        "  sns.heatmap(cm1,annot=True,fmt='.3g',cmap='Oranges',xticklabels=labels,yticklabels=labels)\n",
        "  plt.xlabel('Predicted')\n",
        "  plt.ylabel('True')\n",
        "  plt.show()\n",
        "  print(f'val cat accuracy: {round(accuracy_score(true_class_vals, pred_class_vals),3)}')\n",
        "  print(f\"val f1 macro: {round(f1_score(true_class_vals, pred_class_vals,average='macro'),3)}\")\n",
        "  print(f'val sensitivity/recall: {round(precision_score(true_class_vals, pred_class_vals,average=\"macro\"),3)}')\n",
        "  print(classification_report(true_class_vals, pred_class_vals,digits=3,target_names=labels))\n"
      ]
    },
    {
      "cell_type": "code",
      "execution_count": null,
      "metadata": {
        "id": "NYhZheK4SBxj",
        "colab": {
          "base_uri": "https://localhost:8080/",
          "height": 201
        },
        "outputId": "fdad10ad-18b4-4e34-e607-e2ff003346ec"
      },
      "outputs": [
        {
          "output_type": "error",
          "ename": "NameError",
          "evalue": "ignored",
          "traceback": [
            "\u001b[0;31m---------------------------------------------------------------------------\u001b[0m",
            "\u001b[0;31mNameError\u001b[0m                                 Traceback (most recent call last)",
            "\u001b[0;32m<ipython-input-20-ee93bd6c53d7>\u001b[0m in \u001b[0;36m<module>\u001b[0;34m\u001b[0m\n\u001b[1;32m      1\u001b[0m \u001b[0;31m#variable intentionally not defined - used as a 'break' so that all cells in the notebook\u001b[0m\u001b[0;34m\u001b[0m\u001b[0;34m\u001b[0m\u001b[0;34m\u001b[0m\u001b[0m\n\u001b[1;32m      2\u001b[0m \u001b[0;31m#can be run to regenerate tensorflow datasets without accidentally starting model training\u001b[0m\u001b[0;34m\u001b[0m\u001b[0;34m\u001b[0m\u001b[0;34m\u001b[0m\u001b[0m\n\u001b[0;32m----> 3\u001b[0;31m \u001b[0mbreak_run_all\u001b[0m\u001b[0;34m\u001b[0m\u001b[0;34m\u001b[0m\u001b[0m\n\u001b[0m",
            "\u001b[0;31mNameError\u001b[0m: name 'break_run_all' is not defined"
          ]
        }
      ],
      "source": [
        "#variable intentionally not defined - used as a 'break' so that all cells in the notebook \n",
        "#can be run to regenerate tensorflow datasets without accidentally starting model training\n",
        "break_run_all"
      ]
    },
    {
      "cell_type": "markdown",
      "metadata": {
        "id": "fgqrYmJ6Tofh"
      },
      "source": [
        "## Define and train mixed dataset model:"
      ]
    },
    {
      "cell_type": "code",
      "execution_count": null,
      "metadata": {
        "id": "kG62eB_7kzsa",
        "colab": {
          "base_uri": "https://localhost:8080/",
          "height": 1000
        },
        "outputId": "55634cd1-b465-4672-9ed2-660dd2938586"
      },
      "outputs": [
        {
          "output_type": "stream",
          "name": "stdout",
          "text": [
            "images shape  tf.Tensor([200 300   3], shape=(3,), dtype=int32)\n",
            "label  tf.Tensor([1. 0. 0. 0. 0. 0.], shape=(6,), dtype=float64)\n",
            "[0.8572178 0.941496  0.9717318]\n"
          ]
        },
        {
          "output_type": "display_data",
          "data": {
            "text/plain": [
              "<PIL.Image.Image image mode=RGB size=300x200 at 0x7F466C123110>"
            ],
            "image/png": "[encoded data removed]"
          },
          "metadata": {}
        },
        {
          "output_type": "stream",
          "name": "stdout",
          "text": [
            "images shape  tf.Tensor([200 300   3], shape=(3,), dtype=int32)\n",
            "label  tf.Tensor([0. 0. 1. 0. 0. 0.], shape=(6,), dtype=float64)\n",
            "[1.0012112  0.8406806  0.91945493]\n"
          ]
        },
        {
          "output_type": "display_data",
          "data": {
            "text/plain": [
              "<PIL.Image.Image image mode=RGB size=300x200 at 0x7F466034CA50>"
            ],
            "image/png": "[encoded data removed]"
          },
          "metadata": {}
        },
        {
          "output_type": "stream",
          "name": "stdout",
          "text": [
            "images shape  tf.Tensor([200 300   3], shape=(3,), dtype=int32)\n",
            "label  tf.Tensor([0. 0. 0. 0. 1. 0.], shape=(6,), dtype=float64)\n",
            "[0.9700097 0.9778347 0.9386251]\n"
          ]
        },
        {
          "output_type": "display_data",
          "data": {
            "text/plain": [
              "<PIL.Image.Image image mode=RGB size=300x200 at 0x7F466034C850>"
            ],
            "image/png": "[encoded data removed]"
          },
          "metadata": {}
        },
        {
          "output_type": "stream",
          "name": "stdout",
          "text": [
            "images shape  tf.Tensor([200 300   3], shape=(3,), dtype=int32)\n",
            "label  tf.Tensor([1. 0. 0. 0. 0. 0.], shape=(6,), dtype=float64)\n",
            "[0.3790058  0.55942667 0.66922355]\n"
          ]
        },
        {
          "output_type": "display_data",
          "data": {
            "text/plain": [
              "<PIL.Image.Image image mode=RGB size=300x200 at 0x7F466034CA90>"
            ],
            "image/png": "[encoded data removed]"
          },
          "metadata": {}
        },
        {
          "output_type": "stream",
          "name": "stdout",
          "text": [
            "images shape  tf.Tensor([200 300   3], shape=(3,), dtype=int32)\n",
            "label  tf.Tensor([1. 0. 0. 0. 0. 0.], shape=(6,), dtype=float64)\n",
            "[0.9323505 0.9738771 0.9262489]\n"
          ]
        },
        {
          "output_type": "display_data",
          "data": {
            "text/plain": [
              "<PIL.Image.Image image mode=RGB size=300x200 at 0x7F466034CB90>"
            ],
            "image/png": "[encoded data removed]"
          },
          "metadata": {}
        },
        {
          "output_type": "stream",
          "name": "stdout",
          "text": [
            "images shape  tf.Tensor([200 300   3], shape=(3,), dtype=int32)\n",
            "label  tf.Tensor([0. 1. 0. 0. 0. 0.], shape=(6,), dtype=float64)\n",
            "[0.97257745 0.9686723  0.9370904 ]\n"
          ]
        },
        {
          "output_type": "display_data",
          "data": {
            "text/plain": [
              "<PIL.Image.Image image mode=RGB size=300x200 at 0x7F466034CCD0>"
            ],
            "image/png": "[encoded data removed]"
          },
          "metadata": {}
        },
        {
          "output_type": "stream",
          "name": "stdout",
          "text": [
            "images shape  tf.Tensor([200 300   3], shape=(3,), dtype=int32)\n",
            "label  tf.Tensor([0. 0. 0. 0. 1. 0.], shape=(6,), dtype=float64)\n",
            "[0.9451202  0.97019625 0.91207516]\n"
          ]
        },
        {
          "output_type": "display_data",
          "data": {
            "text/plain": [
              "<PIL.Image.Image image mode=RGB size=300x200 at 0x7F466034CF90>"
            ],
            "image/png": "[encoded data removed]"
          },
          "metadata": {}
        },
        {
          "output_type": "stream",
          "name": "stdout",
          "text": [
            "images shape  tf.Tensor([200 300   3], shape=(3,), dtype=int32)\n",
            "label  tf.Tensor([1. 0. 0. 0. 0. 0.], shape=(6,), dtype=float64)\n",
            "[-0.3329919  -0.04256022  0.2413472 ]\n"
          ]
        },
        {
          "output_type": "display_data",
          "data": {
            "text/plain": [
              "<PIL.Image.Image image mode=RGB size=300x200 at 0x7F466034CC90>"
            ],
            "image/png": "[encoded data removed]"
          },
          "metadata": {}
        },
        {
          "output_type": "stream",
          "name": "stdout",
          "text": [
            "images shape  tf.Tensor([200 300   3], shape=(3,), dtype=int32)\n",
            "label  tf.Tensor([0. 0. 0. 0. 1. 0.], shape=(6,), dtype=float64)\n",
            "[0.9782357 0.9782735 0.9624741]\n"
          ]
        },
        {
          "output_type": "display_data",
          "data": {
            "text/plain": [
              "<PIL.Image.Image image mode=RGB size=300x200 at 0x7F466034CC90>"
            ],
            "image/png": "[encoded data removed]"
          },
          "metadata": {}
        },
        {
          "output_type": "stream",
          "name": "stdout",
          "text": [
            "images shape  tf.Tensor([200 300   3], shape=(3,), dtype=int32)\n",
            "label  tf.Tensor([1. 0. 0. 0. 0. 0.], shape=(6,), dtype=float64)\n",
            "[0.23956263 0.4758383  0.312338  ]\n"
          ]
        },
        {
          "output_type": "display_data",
          "data": {
            "text/plain": [
              "<PIL.Image.Image image mode=RGB size=300x200 at 0x7F46604C7490>"
            ],
            "image/png": "[encoded data removed]"
          },
          "metadata": {}
        },
        {
          "output_type": "stream",
          "name": "stdout",
          "text": [
            "[200 300   3]\n"
          ]
        }
      ],
      "source": [
        "#view some of the images from the training set to make sure they seem as expected\n",
        "\n",
        "def view_train_images(train_ds):\n",
        "  x=0\n",
        "  for images,labels in train_ds.take(10):\n",
        "    print('images shape ' ,tf.shape(images))\n",
        "    print('label ',labels)\n",
        "    image_out = images.numpy()\n",
        "    print(image_out[0][0]) #show first pixel value across 3 channels\n",
        "    cv2_imshow(image_out)\n",
        "    x+=1\n",
        "    if x > 9:\n",
        "      image_shape = np.asarray(tf.shape(images))\n",
        "      print(image_shape)\n",
        "      return image_shape\n",
        "    else:\n",
        "      continue\n",
        "    \n",
        "\n",
        "image_shape = view_train_images(train_ds_mixed)"
      ]
    },
    {
      "cell_type": "code",
      "execution_count": null,
      "metadata": {
        "id": "Zvm5TvTkyl3A",
        "colab": {
          "base_uri": "https://localhost:8080/"
        },
        "outputId": "9e9160b0-d2e8-4e40-c99e-27d9c5efc2c3"
      },
      "outputs": [
        {
          "output_type": "stream",
          "name": "stdout",
          "text": [
            "Downloading data from https://storage.googleapis.com/tensorflow/keras-applications/inception_v3/inception_v3_weights_tf_dim_ordering_tf_kernels_notop.h5\n",
            "87916544/87910968 [==============================] - 0s 0us/step\n",
            "87924736/87910968 [==============================] - 0s 0us/step\n"
          ]
        }
      ],
      "source": [
        "#define model backbone\n",
        "\n",
        "# backbone_mixed = xception.Xception(include_top=False,\n",
        "#     weights='imagenet',\n",
        "#     input_shape=(224,224,3))\n",
        "\n",
        "backbone_mixed = inception(include_top=False,\n",
        "    weights='imagenet', #was 'imagenet'\n",
        "    input_shape=(TARGET_DIMS[0],TARGET_DIMS[1],3))\n",
        "\n",
        "# backbone = efficientnet(include_top=False,\n",
        "#     weights='imagenet',\n",
        "#     input_shape=(image_shape[0],image_shape[1],image_shape[2]))\n",
        "\n",
        "# backbone = rs50(\n",
        "#     include_top=False,\n",
        "#     weights='imagenet',\n",
        "#     input_shape=(image_shape[0],image_shape[1],image_shape[2]))"
      ]
    },
    {
      "cell_type": "code",
      "source": [
        "backbone_mixed.summary()"
      ],
      "metadata": {
        "colab": {
          "base_uri": "https://localhost:8080/"
        },
        "id": "yrZR3pm7Uzyd",
        "outputId": "f100d757-b354-463c-93b7-fc9e87a015f9"
      },
      "execution_count": null,
      "outputs": [
        {
          "output_type": "stream",
          "name": "stdout",
          "text": [
            "Model: \"inception_v3\"\n",
            "__________________________________________________________________________________________________\n",
            " Layer (type)                   Output Shape         Param #     Connected to                     \n",
            "==================================================================================================\n",
            " input_1 (InputLayer)           [(None, 200, 300, 3  0           []                               \n",
            "                                )]                                                                \n",
            "                                                                                                  \n",
            " conv2d (Conv2D)                (None, 99, 149, 32)  864         ['input_1[0][0]']                \n",
            "                                                                                                  \n",
            " batch_normalization (BatchNorm  (None, 99, 149, 32)  96         ['conv2d[0][0]']                 \n",
            " alization)                                                                                       \n",
            "                                                                                                  \n",
            " activation (Activation)        (None, 99, 149, 32)  0           ['batch_normalization[0][0]']    \n",
            "                                                                                                  \n",
            " conv2d_1 (Conv2D)              (None, 97, 147, 32)  9216        ['activation[0][0]']             \n",
            "                                                                                                  \n",
            " batch_normalization_1 (BatchNo  (None, 97, 147, 32)  96         ['conv2d_1[0][0]']               \n",
            " rmalization)                                                                                     \n",
            "                                                                                                  \n",
            " activation_1 (Activation)      (None, 97, 147, 32)  0           ['batch_normalization_1[0][0]']  \n",
            "                                                                                                  \n",
            " conv2d_2 (Conv2D)              (None, 97, 147, 64)  18432       ['activation_1[0][0]']           \n",
            "                                                                                                  \n",
            " batch_normalization_2 (BatchNo  (None, 97, 147, 64)  192        ['conv2d_2[0][0]']               \n",
            " rmalization)                                                                                     \n",
            "                                                                                                  \n",
            " activation_2 (Activation)      (None, 97, 147, 64)  0           ['batch_normalization_2[0][0]']  \n",
            "                                                                                                  \n",
            " max_pooling2d (MaxPooling2D)   (None, 48, 73, 64)   0           ['activation_2[0][0]']           \n",
            "                                                                                                  \n",
            " conv2d_3 (Conv2D)              (None, 48, 73, 80)   5120        ['max_pooling2d[0][0]']          \n",
            "                                                                                                  \n",
            " batch_normalization_3 (BatchNo  (None, 48, 73, 80)  240         ['conv2d_3[0][0]']               \n",
            " rmalization)                                                                                     \n",
            "                                                                                                  \n",
            " activation_3 (Activation)      (None, 48, 73, 80)   0           ['batch_normalization_3[0][0]']  \n",
            "                                                                                                  \n",
            " conv2d_4 (Conv2D)              (None, 46, 71, 192)  138240      ['activation_3[0][0]']           \n",
            "                                                                                                  \n",
            " batch_normalization_4 (BatchNo  (None, 46, 71, 192)  576        ['conv2d_4[0][0]']               \n",
            " rmalization)                                                                                     \n",
            "                                                                                                  \n",
            " activation_4 (Activation)      (None, 46, 71, 192)  0           ['batch_normalization_4[0][0]']  \n",
            "                                                                                                  \n",
            " max_pooling2d_1 (MaxPooling2D)  (None, 22, 35, 192)  0          ['activation_4[0][0]']           \n",
            "                                                                                                  \n",
            " conv2d_8 (Conv2D)              (None, 22, 35, 64)   12288       ['max_pooling2d_1[0][0]']        \n",
            "                                                                                                  \n",
            " batch_normalization_8 (BatchNo  (None, 22, 35, 64)  192         ['conv2d_8[0][0]']               \n",
            " rmalization)                                                                                     \n",
            "                                                                                                  \n",
            " activation_8 (Activation)      (None, 22, 35, 64)   0           ['batch_normalization_8[0][0]']  \n",
            "                                                                                                  \n",
            " conv2d_6 (Conv2D)              (None, 22, 35, 48)   9216        ['max_pooling2d_1[0][0]']        \n",
            "                                                                                                  \n",
            " conv2d_9 (Conv2D)              (None, 22, 35, 96)   55296       ['activation_8[0][0]']           \n",
            "                                                                                                  \n",
            " batch_normalization_6 (BatchNo  (None, 22, 35, 48)  144         ['conv2d_6[0][0]']               \n",
            " rmalization)                                                                                     \n",
            "                                                                                                  \n",
            " batch_normalization_9 (BatchNo  (None, 22, 35, 96)  288         ['conv2d_9[0][0]']               \n",
            " rmalization)                                                                                     \n",
            "                                                                                                  \n",
            " activation_6 (Activation)      (None, 22, 35, 48)   0           ['batch_normalization_6[0][0]']  \n",
            "                                                                                                  \n",
            " activation_9 (Activation)      (None, 22, 35, 96)   0           ['batch_normalization_9[0][0]']  \n",
            "                                                                                                  \n",
            " average_pooling2d (AveragePool  (None, 22, 35, 192)  0          ['max_pooling2d_1[0][0]']        \n",
            " ing2D)                                                                                           \n",
            "                                                                                                  \n",
            " conv2d_5 (Conv2D)              (None, 22, 35, 64)   12288       ['max_pooling2d_1[0][0]']        \n",
            "                                                                                                  \n",
            " conv2d_7 (Conv2D)              (None, 22, 35, 64)   76800       ['activation_6[0][0]']           \n",
            "                                                                                                  \n",
            " conv2d_10 (Conv2D)             (None, 22, 35, 96)   82944       ['activation_9[0][0]']           \n",
            "                                                                                                  \n",
            " conv2d_11 (Conv2D)             (None, 22, 35, 32)   6144        ['average_pooling2d[0][0]']      \n",
            "                                                                                                  \n",
            " batch_normalization_5 (BatchNo  (None, 22, 35, 64)  192         ['conv2d_5[0][0]']               \n",
            " rmalization)                                                                                     \n",
            "                                                                                                  \n",
            " batch_normalization_7 (BatchNo  (None, 22, 35, 64)  192         ['conv2d_7[0][0]']               \n",
            " rmalization)                                                                                     \n",
            "                                                                                                  \n",
            " batch_normalization_10 (BatchN  (None, 22, 35, 96)  288         ['conv2d_10[0][0]']              \n",
            " ormalization)                                                                                    \n",
            "                                                                                                  \n",
            " batch_normalization_11 (BatchN  (None, 22, 35, 32)  96          ['conv2d_11[0][0]']              \n",
            " ormalization)                                                                                    \n",
            "                                                                                                  \n",
            " activation_5 (Activation)      (None, 22, 35, 64)   0           ['batch_normalization_5[0][0]']  \n",
            "                                                                                                  \n",
            " activation_7 (Activation)      (None, 22, 35, 64)   0           ['batch_normalization_7[0][0]']  \n",
            "                                                                                                  \n",
            " activation_10 (Activation)     (None, 22, 35, 96)   0           ['batch_normalization_10[0][0]'] \n",
            "                                                                                                  \n",
            " activation_11 (Activation)     (None, 22, 35, 32)   0           ['batch_normalization_11[0][0]'] \n",
            "                                                                                                  \n",
            " mixed0 (Concatenate)           (None, 22, 35, 256)  0           ['activation_5[0][0]',           \n",
            "                                                                  'activation_7[0][0]',           \n",
            "                                                                  'activation_10[0][0]',          \n",
            "                                                                  'activation_11[0][0]']          \n",
            "                                                                                                  \n",
            " conv2d_15 (Conv2D)             (None, 22, 35, 64)   16384       ['mixed0[0][0]']                 \n",
            "                                                                                                  \n",
            " batch_normalization_15 (BatchN  (None, 22, 35, 64)  192         ['conv2d_15[0][0]']              \n",
            " ormalization)                                                                                    \n",
            "                                                                                                  \n",
            " activation_15 (Activation)     (None, 22, 35, 64)   0           ['batch_normalization_15[0][0]'] \n",
            "                                                                                                  \n",
            " conv2d_13 (Conv2D)             (None, 22, 35, 48)   12288       ['mixed0[0][0]']                 \n",
            "                                                                                                  \n",
            " conv2d_16 (Conv2D)             (None, 22, 35, 96)   55296       ['activation_15[0][0]']          \n",
            "                                                                                                  \n",
            " batch_normalization_13 (BatchN  (None, 22, 35, 48)  144         ['conv2d_13[0][0]']              \n",
            " ormalization)                                                                                    \n",
            "                                                                                                  \n",
            " batch_normalization_16 (BatchN  (None, 22, 35, 96)  288         ['conv2d_16[0][0]']              \n",
            " ormalization)                                                                                    \n",
            "                                                                                                  \n",
            " activation_13 (Activation)     (None, 22, 35, 48)   0           ['batch_normalization_13[0][0]'] \n",
            "                                                                                                  \n",
            " activation_16 (Activation)     (None, 22, 35, 96)   0           ['batch_normalization_16[0][0]'] \n",
            "                                                                                                  \n",
            " average_pooling2d_1 (AveragePo  (None, 22, 35, 256)  0          ['mixed0[0][0]']                 \n",
            " oling2D)                                                                                         \n",
            "                                                                                                  \n",
            " conv2d_12 (Conv2D)             (None, 22, 35, 64)   16384       ['mixed0[0][0]']                 \n",
            "                                                                                                  \n",
            " conv2d_14 (Conv2D)             (None, 22, 35, 64)   76800       ['activation_13[0][0]']          \n",
            "                                                                                                  \n",
            " conv2d_17 (Conv2D)             (None, 22, 35, 96)   82944       ['activation_16[0][0]']          \n",
            "                                                                                                  \n",
            " conv2d_18 (Conv2D)             (None, 22, 35, 64)   16384       ['average_pooling2d_1[0][0]']    \n",
            "                                                                                                  \n",
            " batch_normalization_12 (BatchN  (None, 22, 35, 64)  192         ['conv2d_12[0][0]']              \n",
            " ormalization)                                                                                    \n",
            "                                                                                                  \n",
            " batch_normalization_14 (BatchN  (None, 22, 35, 64)  192         ['conv2d_14[0][0]']              \n",
            " ormalization)                                                                                    \n",
            "                                                                                                  \n",
            " batch_normalization_17 (BatchN  (None, 22, 35, 96)  288         ['conv2d_17[0][0]']              \n",
            " ormalization)                                                                                    \n",
            "                                                                                                  \n",
            " batch_normalization_18 (BatchN  (None, 22, 35, 64)  192         ['conv2d_18[0][0]']              \n",
            " ormalization)                                                                                    \n",
            "                                                                                                  \n",
            " activation_12 (Activation)     (None, 22, 35, 64)   0           ['batch_normalization_12[0][0]'] \n",
            "                                                                                                  \n",
            " activation_14 (Activation)     (None, 22, 35, 64)   0           ['batch_normalization_14[0][0]'] \n",
            "                                                                                                  \n",
            " activation_17 (Activation)     (None, 22, 35, 96)   0           ['batch_normalization_17[0][0]'] \n",
            "                                                                                                  \n",
            " activation_18 (Activation)     (None, 22, 35, 64)   0           ['batch_normalization_18[0][0]'] \n",
            "                                                                                                  \n",
            " mixed1 (Concatenate)           (None, 22, 35, 288)  0           ['activation_12[0][0]',          \n",
            "                                                                  'activation_14[0][0]',          \n",
            "                                                                  'activation_17[0][0]',          \n",
            "                                                                  'activation_18[0][0]']          \n",
            "                                                                                                  \n",
            " conv2d_22 (Conv2D)             (None, 22, 35, 64)   18432       ['mixed1[0][0]']                 \n",
            "                                                                                                  \n",
            " batch_normalization_22 (BatchN  (None, 22, 35, 64)  192         ['conv2d_22[0][0]']              \n",
            " ormalization)                                                                                    \n",
            "                                                                                                  \n",
            " activation_22 (Activation)     (None, 22, 35, 64)   0           ['batch_normalization_22[0][0]'] \n",
            "                                                                                                  \n",
            " conv2d_20 (Conv2D)             (None, 22, 35, 48)   13824       ['mixed1[0][0]']                 \n",
            "                                                                                                  \n",
            " conv2d_23 (Conv2D)             (None, 22, 35, 96)   55296       ['activation_22[0][0]']          \n",
            "                                                                                                  \n",
            " batch_normalization_20 (BatchN  (None, 22, 35, 48)  144         ['conv2d_20[0][0]']              \n",
            " ormalization)                                                                                    \n",
            "                                                                                                  \n",
            " batch_normalization_23 (BatchN  (None, 22, 35, 96)  288         ['conv2d_23[0][0]']              \n",
            " ormalization)                                                                                    \n",
            "                                                                                                  \n",
            " activation_20 (Activation)     (None, 22, 35, 48)   0           ['batch_normalization_20[0][0]'] \n",
            "                                                                                                  \n",
            " activation_23 (Activation)     (None, 22, 35, 96)   0           ['batch_normalization_23[0][0]'] \n",
            "                                                                                                  \n",
            " average_pooling2d_2 (AveragePo  (None, 22, 35, 288)  0          ['mixed1[0][0]']                 \n",
            " oling2D)                                                                                         \n",
            "                                                                                                  \n",
            " conv2d_19 (Conv2D)             (None, 22, 35, 64)   18432       ['mixed1[0][0]']                 \n",
            "                                                                                                  \n",
            " conv2d_21 (Conv2D)             (None, 22, 35, 64)   76800       ['activation_20[0][0]']          \n",
            "                                                                                                  \n",
            " conv2d_24 (Conv2D)             (None, 22, 35, 96)   82944       ['activation_23[0][0]']          \n",
            "                                                                                                  \n",
            " conv2d_25 (Conv2D)             (None, 22, 35, 64)   18432       ['average_pooling2d_2[0][0]']    \n",
            "                                                                                                  \n",
            " batch_normalization_19 (BatchN  (None, 22, 35, 64)  192         ['conv2d_19[0][0]']              \n",
            " ormalization)                                                                                    \n",
            "                                                                                                  \n",
            " batch_normalization_21 (BatchN  (None, 22, 35, 64)  192         ['conv2d_21[0][0]']              \n",
            " ormalization)                                                                                    \n",
            "                                                                                                  \n",
            " batch_normalization_24 (BatchN  (None, 22, 35, 96)  288         ['conv2d_24[0][0]']              \n",
            " ormalization)                                                                                    \n",
            "                                                                                                  \n",
            " batch_normalization_25 (BatchN  (None, 22, 35, 64)  192         ['conv2d_25[0][0]']              \n",
            " ormalization)                                                                                    \n",
            "                                                                                                  \n",
            " activation_19 (Activation)     (None, 22, 35, 64)   0           ['batch_normalization_19[0][0]'] \n",
            "                                                                                                  \n",
            " activation_21 (Activation)     (None, 22, 35, 64)   0           ['batch_normalization_21[0][0]'] \n",
            "                                                                                                  \n",
            " activation_24 (Activation)     (None, 22, 35, 96)   0           ['batch_normalization_24[0][0]'] \n",
            "                                                                                                  \n",
            " activation_25 (Activation)     (None, 22, 35, 64)   0           ['batch_normalization_25[0][0]'] \n",
            "                                                                                                  \n",
            " mixed2 (Concatenate)           (None, 22, 35, 288)  0           ['activation_19[0][0]',          \n",
            "                                                                  'activation_21[0][0]',          \n",
            "                                                                  'activation_24[0][0]',          \n",
            "                                                                  'activation_25[0][0]']          \n",
            "                                                                                                  \n",
            " conv2d_27 (Conv2D)             (None, 22, 35, 64)   18432       ['mixed2[0][0]']                 \n",
            "                                                                                                  \n",
            " batch_normalization_27 (BatchN  (None, 22, 35, 64)  192         ['conv2d_27[0][0]']              \n",
            " ormalization)                                                                                    \n",
            "                                                                                                  \n",
            " activation_27 (Activation)     (None, 22, 35, 64)   0           ['batch_normalization_27[0][0]'] \n",
            "                                                                                                  \n",
            " conv2d_28 (Conv2D)             (None, 22, 35, 96)   55296       ['activation_27[0][0]']          \n",
            "                                                                                                  \n",
            " batch_normalization_28 (BatchN  (None, 22, 35, 96)  288         ['conv2d_28[0][0]']              \n",
            " ormalization)                                                                                    \n",
            "                                                                                                  \n",
            " activation_28 (Activation)     (None, 22, 35, 96)   0           ['batch_normalization_28[0][0]'] \n",
            "                                                                                                  \n",
            " conv2d_26 (Conv2D)             (None, 10, 17, 384)  995328      ['mixed2[0][0]']                 \n",
            "                                                                                                  \n",
            " conv2d_29 (Conv2D)             (None, 10, 17, 96)   82944       ['activation_28[0][0]']          \n",
            "                                                                                                  \n",
            " batch_normalization_26 (BatchN  (None, 10, 17, 384)  1152       ['conv2d_26[0][0]']              \n",
            " ormalization)                                                                                    \n",
            "                                                                                                  \n",
            " batch_normalization_29 (BatchN  (None, 10, 17, 96)  288         ['conv2d_29[0][0]']              \n",
            " ormalization)                                                                                    \n",
            "                                                                                                  \n",
            " activation_26 (Activation)     (None, 10, 17, 384)  0           ['batch_normalization_26[0][0]'] \n",
            "                                                                                                  \n",
            " activation_29 (Activation)     (None, 10, 17, 96)   0           ['batch_normalization_29[0][0]'] \n",
            "                                                                                                  \n",
            " max_pooling2d_2 (MaxPooling2D)  (None, 10, 17, 288)  0          ['mixed2[0][0]']                 \n",
            "                                                                                                  \n",
            " mixed3 (Concatenate)           (None, 10, 17, 768)  0           ['activation_26[0][0]',          \n",
            "                                                                  'activation_29[0][0]',          \n",
            "                                                                  'max_pooling2d_2[0][0]']        \n",
            "                                                                                                  \n",
            " conv2d_34 (Conv2D)             (None, 10, 17, 128)  98304       ['mixed3[0][0]']                 \n",
            "                                                                                                  \n",
            " batch_normalization_34 (BatchN  (None, 10, 17, 128)  384        ['conv2d_34[0][0]']              \n",
            " ormalization)                                                                                    \n",
            "                                                                                                  \n",
            " activation_34 (Activation)     (None, 10, 17, 128)  0           ['batch_normalization_34[0][0]'] \n",
            "                                                                                                  \n",
            " conv2d_35 (Conv2D)             (None, 10, 17, 128)  114688      ['activation_34[0][0]']          \n",
            "                                                                                                  \n",
            " batch_normalization_35 (BatchN  (None, 10, 17, 128)  384        ['conv2d_35[0][0]']              \n",
            " ormalization)                                                                                    \n",
            "                                                                                                  \n",
            " activation_35 (Activation)     (None, 10, 17, 128)  0           ['batch_normalization_35[0][0]'] \n",
            "                                                                                                  \n",
            " conv2d_31 (Conv2D)             (None, 10, 17, 128)  98304       ['mixed3[0][0]']                 \n",
            "                                                                                                  \n",
            " conv2d_36 (Conv2D)             (None, 10, 17, 128)  114688      ['activation_35[0][0]']          \n",
            "                                                                                                  \n",
            " batch_normalization_31 (BatchN  (None, 10, 17, 128)  384        ['conv2d_31[0][0]']              \n",
            " ormalization)                                                                                    \n",
            "                                                                                                  \n",
            " batch_normalization_36 (BatchN  (None, 10, 17, 128)  384        ['conv2d_36[0][0]']              \n",
            " ormalization)                                                                                    \n",
            "                                                                                                  \n",
            " activation_31 (Activation)     (None, 10, 17, 128)  0           ['batch_normalization_31[0][0]'] \n",
            "                                                                                                  \n",
            " activation_36 (Activation)     (None, 10, 17, 128)  0           ['batch_normalization_36[0][0]'] \n",
            "                                                                                                  \n",
            " conv2d_32 (Conv2D)             (None, 10, 17, 128)  114688      ['activation_31[0][0]']          \n",
            "                                                                                                  \n",
            " conv2d_37 (Conv2D)             (None, 10, 17, 128)  114688      ['activation_36[0][0]']          \n",
            "                                                                                                  \n",
            " batch_normalization_32 (BatchN  (None, 10, 17, 128)  384        ['conv2d_32[0][0]']              \n",
            " ormalization)                                                                                    \n",
            "                                                                                                  \n",
            " batch_normalization_37 (BatchN  (None, 10, 17, 128)  384        ['conv2d_37[0][0]']              \n",
            " ormalization)                                                                                    \n",
            "                                                                                                  \n",
            " activation_32 (Activation)     (None, 10, 17, 128)  0           ['batch_normalization_32[0][0]'] \n",
            "                                                                                                  \n",
            " activation_37 (Activation)     (None, 10, 17, 128)  0           ['batch_normalization_37[0][0]'] \n",
            "                                                                                                  \n",
            " average_pooling2d_3 (AveragePo  (None, 10, 17, 768)  0          ['mixed3[0][0]']                 \n",
            " oling2D)                                                                                         \n",
            "                                                                                                  \n",
            " conv2d_30 (Conv2D)             (None, 10, 17, 192)  147456      ['mixed3[0][0]']                 \n",
            "                                                                                                  \n",
            " conv2d_33 (Conv2D)             (None, 10, 17, 192)  172032      ['activation_32[0][0]']          \n",
            "                                                                                                  \n",
            " conv2d_38 (Conv2D)             (None, 10, 17, 192)  172032      ['activation_37[0][0]']          \n",
            "                                                                                                  \n",
            " conv2d_39 (Conv2D)             (None, 10, 17, 192)  147456      ['average_pooling2d_3[0][0]']    \n",
            "                                                                                                  \n",
            " batch_normalization_30 (BatchN  (None, 10, 17, 192)  576        ['conv2d_30[0][0]']              \n",
            " ormalization)                                                                                    \n",
            "                                                                                                  \n",
            " batch_normalization_33 (BatchN  (None, 10, 17, 192)  576        ['conv2d_33[0][0]']              \n",
            " ormalization)                                                                                    \n",
            "                                                                                                  \n",
            " batch_normalization_38 (BatchN  (None, 10, 17, 192)  576        ['conv2d_38[0][0]']              \n",
            " ormalization)                                                                                    \n",
            "                                                                                                  \n",
            " batch_normalization_39 (BatchN  (None, 10, 17, 192)  576        ['conv2d_39[0][0]']              \n",
            " ormalization)                                                                                    \n",
            "                                                                                                  \n",
            " activation_30 (Activation)     (None, 10, 17, 192)  0           ['batch_normalization_30[0][0]'] \n",
            "                                                                                                  \n",
            " activation_33 (Activation)     (None, 10, 17, 192)  0           ['batch_normalization_33[0][0]'] \n",
            "                                                                                                  \n",
            " activation_38 (Activation)     (None, 10, 17, 192)  0           ['batch_normalization_38[0][0]'] \n",
            "                                                                                                  \n",
            " activation_39 (Activation)     (None, 10, 17, 192)  0           ['batch_normalization_39[0][0]'] \n",
            "                                                                                                  \n",
            " mixed4 (Concatenate)           (None, 10, 17, 768)  0           ['activation_30[0][0]',          \n",
            "                                                                  'activation_33[0][0]',          \n",
            "                                                                  'activation_38[0][0]',          \n",
            "                                                                  'activation_39[0][0]']          \n",
            "                                                                                                  \n",
            " conv2d_44 (Conv2D)             (None, 10, 17, 160)  122880      ['mixed4[0][0]']                 \n",
            "                                                                                                  \n",
            " batch_normalization_44 (BatchN  (None, 10, 17, 160)  480        ['conv2d_44[0][0]']              \n",
            " ormalization)                                                                                    \n",
            "                                                                                                  \n",
            " activation_44 (Activation)     (None, 10, 17, 160)  0           ['batch_normalization_44[0][0]'] \n",
            "                                                                                                  \n",
            " conv2d_45 (Conv2D)             (None, 10, 17, 160)  179200      ['activation_44[0][0]']          \n",
            "                                                                                                  \n",
            " batch_normalization_45 (BatchN  (None, 10, 17, 160)  480        ['conv2d_45[0][0]']              \n",
            " ormalization)                                                                                    \n",
            "                                                                                                  \n",
            " activation_45 (Activation)     (None, 10, 17, 160)  0           ['batch_normalization_45[0][0]'] \n",
            "                                                                                                  \n",
            " conv2d_41 (Conv2D)             (None, 10, 17, 160)  122880      ['mixed4[0][0]']                 \n",
            "                                                                                                  \n",
            " conv2d_46 (Conv2D)             (None, 10, 17, 160)  179200      ['activation_45[0][0]']          \n",
            "                                                                                                  \n",
            " batch_normalization_41 (BatchN  (None, 10, 17, 160)  480        ['conv2d_41[0][0]']              \n",
            " ormalization)                                                                                    \n",
            "                                                                                                  \n",
            " batch_normalization_46 (BatchN  (None, 10, 17, 160)  480        ['conv2d_46[0][0]']              \n",
            " ormalization)                                                                                    \n",
            "                                                                                                  \n",
            " activation_41 (Activation)     (None, 10, 17, 160)  0           ['batch_normalization_41[0][0]'] \n",
            "                                                                                                  \n",
            " activation_46 (Activation)     (None, 10, 17, 160)  0           ['batch_normalization_46[0][0]'] \n",
            "                                                                                                  \n",
            " conv2d_42 (Conv2D)             (None, 10, 17, 160)  179200      ['activation_41[0][0]']          \n",
            "                                                                                                  \n",
            " conv2d_47 (Conv2D)             (None, 10, 17, 160)  179200      ['activation_46[0][0]']          \n",
            "                                                                                                  \n",
            " batch_normalization_42 (BatchN  (None, 10, 17, 160)  480        ['conv2d_42[0][0]']              \n",
            " ormalization)                                                                                    \n",
            "                                                                                                  \n",
            " batch_normalization_47 (BatchN  (None, 10, 17, 160)  480        ['conv2d_47[0][0]']              \n",
            " ormalization)                                                                                    \n",
            "                                                                                                  \n",
            " activation_42 (Activation)     (None, 10, 17, 160)  0           ['batch_normalization_42[0][0]'] \n",
            "                                                                                                  \n",
            " activation_47 (Activation)     (None, 10, 17, 160)  0           ['batch_normalization_47[0][0]'] \n",
            "                                                                                                  \n",
            " average_pooling2d_4 (AveragePo  (None, 10, 17, 768)  0          ['mixed4[0][0]']                 \n",
            " oling2D)                                                                                         \n",
            "                                                                                                  \n",
            " conv2d_40 (Conv2D)             (None, 10, 17, 192)  147456      ['mixed4[0][0]']                 \n",
            "                                                                                                  \n",
            " conv2d_43 (Conv2D)             (None, 10, 17, 192)  215040      ['activation_42[0][0]']          \n",
            "                                                                                                  \n",
            " conv2d_48 (Conv2D)             (None, 10, 17, 192)  215040      ['activation_47[0][0]']          \n",
            "                                                                                                  \n",
            " conv2d_49 (Conv2D)             (None, 10, 17, 192)  147456      ['average_pooling2d_4[0][0]']    \n",
            "                                                                                                  \n",
            " batch_normalization_40 (BatchN  (None, 10, 17, 192)  576        ['conv2d_40[0][0]']              \n",
            " ormalization)                                                                                    \n",
            "                                                                                                  \n",
            " batch_normalization_43 (BatchN  (None, 10, 17, 192)  576        ['conv2d_43[0][0]']              \n",
            " ormalization)                                                                                    \n",
            "                                                                                                  \n",
            " batch_normalization_48 (BatchN  (None, 10, 17, 192)  576        ['conv2d_48[0][0]']              \n",
            " ormalization)                                                                                    \n",
            "                                                                                                  \n",
            " batch_normalization_49 (BatchN  (None, 10, 17, 192)  576        ['conv2d_49[0][0]']              \n",
            " ormalization)                                                                                    \n",
            "                                                                                                  \n",
            " activation_40 (Activation)     (None, 10, 17, 192)  0           ['batch_normalization_40[0][0]'] \n",
            "                                                                                                  \n",
            " activation_43 (Activation)     (None, 10, 17, 192)  0           ['batch_normalization_43[0][0]'] \n",
            "                                                                                                  \n",
            " activation_48 (Activation)     (None, 10, 17, 192)  0           ['batch_normalization_48[0][0]'] \n",
            "                                                                                                  \n",
            " activation_49 (Activation)     (None, 10, 17, 192)  0           ['batch_normalization_49[0][0]'] \n",
            "                                                                                                  \n",
            " mixed5 (Concatenate)           (None, 10, 17, 768)  0           ['activation_40[0][0]',          \n",
            "                                                                  'activation_43[0][0]',          \n",
            "                                                                  'activation_48[0][0]',          \n",
            "                                                                  'activation_49[0][0]']          \n",
            "                                                                                                  \n",
            " conv2d_54 (Conv2D)             (None, 10, 17, 160)  122880      ['mixed5[0][0]']                 \n",
            "                                                                                                  \n",
            " batch_normalization_54 (BatchN  (None, 10, 17, 160)  480        ['conv2d_54[0][0]']              \n",
            " ormalization)                                                                                    \n",
            "                                                                                                  \n",
            " activation_54 (Activation)     (None, 10, 17, 160)  0           ['batch_normalization_54[0][0]'] \n",
            "                                                                                                  \n",
            " conv2d_55 (Conv2D)             (None, 10, 17, 160)  179200      ['activation_54[0][0]']          \n",
            "                                                                                                  \n",
            " batch_normalization_55 (BatchN  (None, 10, 17, 160)  480        ['conv2d_55[0][0]']              \n",
            " ormalization)                                                                                    \n",
            "                                                                                                  \n",
            " activation_55 (Activation)     (None, 10, 17, 160)  0           ['batch_normalization_55[0][0]'] \n",
            "                                                                                                  \n",
            " conv2d_51 (Conv2D)             (None, 10, 17, 160)  122880      ['mixed5[0][0]']                 \n",
            "                                                                                                  \n",
            " conv2d_56 (Conv2D)             (None, 10, 17, 160)  179200      ['activation_55[0][0]']          \n",
            "                                                                                                  \n",
            " batch_normalization_51 (BatchN  (None, 10, 17, 160)  480        ['conv2d_51[0][0]']              \n",
            " ormalization)                                                                                    \n",
            "                                                                                                  \n",
            " batch_normalization_56 (BatchN  (None, 10, 17, 160)  480        ['conv2d_56[0][0]']              \n",
            " ormalization)                                                                                    \n",
            "                                                                                                  \n",
            " activation_51 (Activation)     (None, 10, 17, 160)  0           ['batch_normalization_51[0][0]'] \n",
            "                                                                                                  \n",
            " activation_56 (Activation)     (None, 10, 17, 160)  0           ['batch_normalization_56[0][0]'] \n",
            "                                                                                                  \n",
            " conv2d_52 (Conv2D)             (None, 10, 17, 160)  179200      ['activation_51[0][0]']          \n",
            "                                                                                                  \n",
            " conv2d_57 (Conv2D)             (None, 10, 17, 160)  179200      ['activation_56[0][0]']          \n",
            "                                                                                                  \n",
            " batch_normalization_52 (BatchN  (None, 10, 17, 160)  480        ['conv2d_52[0][0]']              \n",
            " ormalization)                                                                                    \n",
            "                                                                                                  \n",
            " batch_normalization_57 (BatchN  (None, 10, 17, 160)  480        ['conv2d_57[0][0]']              \n",
            " ormalization)                                                                                    \n",
            "                                                                                                  \n",
            " activation_52 (Activation)     (None, 10, 17, 160)  0           ['batch_normalization_52[0][0]'] \n",
            "                                                                                                  \n",
            " activation_57 (Activation)     (None, 10, 17, 160)  0           ['batch_normalization_57[0][0]'] \n",
            "                                                                                                  \n",
            " average_pooling2d_5 (AveragePo  (None, 10, 17, 768)  0          ['mixed5[0][0]']                 \n",
            " oling2D)                                                                                         \n",
            "                                                                                                  \n",
            " conv2d_50 (Conv2D)             (None, 10, 17, 192)  147456      ['mixed5[0][0]']                 \n",
            "                                                                                                  \n",
            " conv2d_53 (Conv2D)             (None, 10, 17, 192)  215040      ['activation_52[0][0]']          \n",
            "                                                                                                  \n",
            " conv2d_58 (Conv2D)             (None, 10, 17, 192)  215040      ['activation_57[0][0]']          \n",
            "                                                                                                  \n",
            " conv2d_59 (Conv2D)             (None, 10, 17, 192)  147456      ['average_pooling2d_5[0][0]']    \n",
            "                                                                                                  \n",
            " batch_normalization_50 (BatchN  (None, 10, 17, 192)  576        ['conv2d_50[0][0]']              \n",
            " ormalization)                                                                                    \n",
            "                                                                                                  \n",
            " batch_normalization_53 (BatchN  (None, 10, 17, 192)  576        ['conv2d_53[0][0]']              \n",
            " ormalization)                                                                                    \n",
            "                                                                                                  \n",
            " batch_normalization_58 (BatchN  (None, 10, 17, 192)  576        ['conv2d_58[0][0]']              \n",
            " ormalization)                                                                                    \n",
            "                                                                                                  \n",
            " batch_normalization_59 (BatchN  (None, 10, 17, 192)  576        ['conv2d_59[0][0]']              \n",
            " ormalization)                                                                                    \n",
            "                                                                                                  \n",
            " activation_50 (Activation)     (None, 10, 17, 192)  0           ['batch_normalization_50[0][0]'] \n",
            "                                                                                                  \n",
            " activation_53 (Activation)     (None, 10, 17, 192)  0           ['batch_normalization_53[0][0]'] \n",
            "                                                                                                  \n",
            " activation_58 (Activation)     (None, 10, 17, 192)  0           ['batch_normalization_58[0][0]'] \n",
            "                                                                                                  \n",
            " activation_59 (Activation)     (None, 10, 17, 192)  0           ['batch_normalization_59[0][0]'] \n",
            "                                                                                                  \n",
            " mixed6 (Concatenate)           (None, 10, 17, 768)  0           ['activation_50[0][0]',          \n",
            "                                                                  'activation_53[0][0]',          \n",
            "                                                                  'activation_58[0][0]',          \n",
            "                                                                  'activation_59[0][0]']          \n",
            "                                                                                                  \n",
            " conv2d_64 (Conv2D)             (None, 10, 17, 192)  147456      ['mixed6[0][0]']                 \n",
            "                                                                                                  \n",
            " batch_normalization_64 (BatchN  (None, 10, 17, 192)  576        ['conv2d_64[0][0]']              \n",
            " ormalization)                                                                                    \n",
            "                                                                                                  \n",
            " activation_64 (Activation)     (None, 10, 17, 192)  0           ['batch_normalization_64[0][0]'] \n",
            "                                                                                                  \n",
            " conv2d_65 (Conv2D)             (None, 10, 17, 192)  258048      ['activation_64[0][0]']          \n",
            "                                                                                                  \n",
            " batch_normalization_65 (BatchN  (None, 10, 17, 192)  576        ['conv2d_65[0][0]']              \n",
            " ormalization)                                                                                    \n",
            "                                                                                                  \n",
            " activation_65 (Activation)     (None, 10, 17, 192)  0           ['batch_normalization_65[0][0]'] \n",
            "                                                                                                  \n",
            " conv2d_61 (Conv2D)             (None, 10, 17, 192)  147456      ['mixed6[0][0]']                 \n",
            "                                                                                                  \n",
            " conv2d_66 (Conv2D)             (None, 10, 17, 192)  258048      ['activation_65[0][0]']          \n",
            "                                                                                                  \n",
            " batch_normalization_61 (BatchN  (None, 10, 17, 192)  576        ['conv2d_61[0][0]']              \n",
            " ormalization)                                                                                    \n",
            "                                                                                                  \n",
            " batch_normalization_66 (BatchN  (None, 10, 17, 192)  576        ['conv2d_66[0][0]']              \n",
            " ormalization)                                                                                    \n",
            "                                                                                                  \n",
            " activation_61 (Activation)     (None, 10, 17, 192)  0           ['batch_normalization_61[0][0]'] \n",
            "                                                                                                  \n",
            " activation_66 (Activation)     (None, 10, 17, 192)  0           ['batch_normalization_66[0][0]'] \n",
            "                                                                                                  \n",
            " conv2d_62 (Conv2D)             (None, 10, 17, 192)  258048      ['activation_61[0][0]']          \n",
            "                                                                                                  \n",
            " conv2d_67 (Conv2D)             (None, 10, 17, 192)  258048      ['activation_66[0][0]']          \n",
            "                                                                                                  \n",
            " batch_normalization_62 (BatchN  (None, 10, 17, 192)  576        ['conv2d_62[0][0]']              \n",
            " ormalization)                                                                                    \n",
            "                                                                                                  \n",
            " batch_normalization_67 (BatchN  (None, 10, 17, 192)  576        ['conv2d_67[0][0]']              \n",
            " ormalization)                                                                                    \n",
            "                                                                                                  \n",
            " activation_62 (Activation)     (None, 10, 17, 192)  0           ['batch_normalization_62[0][0]'] \n",
            "                                                                                                  \n",
            " activation_67 (Activation)     (None, 10, 17, 192)  0           ['batch_normalization_67[0][0]'] \n",
            "                                                                                                  \n",
            " average_pooling2d_6 (AveragePo  (None, 10, 17, 768)  0          ['mixed6[0][0]']                 \n",
            " oling2D)                                                                                         \n",
            "                                                                                                  \n",
            " conv2d_60 (Conv2D)             (None, 10, 17, 192)  147456      ['mixed6[0][0]']                 \n",
            "                                                                                                  \n",
            " conv2d_63 (Conv2D)             (None, 10, 17, 192)  258048      ['activation_62[0][0]']          \n",
            "                                                                                                  \n",
            " conv2d_68 (Conv2D)             (None, 10, 17, 192)  258048      ['activation_67[0][0]']          \n",
            "                                                                                                  \n",
            " conv2d_69 (Conv2D)             (None, 10, 17, 192)  147456      ['average_pooling2d_6[0][0]']    \n",
            "                                                                                                  \n",
            " batch_normalization_60 (BatchN  (None, 10, 17, 192)  576        ['conv2d_60[0][0]']              \n",
            " ormalization)                                                                                    \n",
            "                                                                                                  \n",
            " batch_normalization_63 (BatchN  (None, 10, 17, 192)  576        ['conv2d_63[0][0]']              \n",
            " ormalization)                                                                                    \n",
            "                                                                                                  \n",
            " batch_normalization_68 (BatchN  (None, 10, 17, 192)  576        ['conv2d_68[0][0]']              \n",
            " ormalization)                                                                                    \n",
            "                                                                                                  \n",
            " batch_normalization_69 (BatchN  (None, 10, 17, 192)  576        ['conv2d_69[0][0]']              \n",
            " ormalization)                                                                                    \n",
            "                                                                                                  \n",
            " activation_60 (Activation)     (None, 10, 17, 192)  0           ['batch_normalization_60[0][0]'] \n",
            "                                                                                                  \n",
            " activation_63 (Activation)     (None, 10, 17, 192)  0           ['batch_normalization_63[0][0]'] \n",
            "                                                                                                  \n",
            " activation_68 (Activation)     (None, 10, 17, 192)  0           ['batch_normalization_68[0][0]'] \n",
            "                                                                                                  \n",
            " activation_69 (Activation)     (None, 10, 17, 192)  0           ['batch_normalization_69[0][0]'] \n",
            "                                                                                                  \n",
            " mixed7 (Concatenate)           (None, 10, 17, 768)  0           ['activation_60[0][0]',          \n",
            "                                                                  'activation_63[0][0]',          \n",
            "                                                                  'activation_68[0][0]',          \n",
            "                                                                  'activation_69[0][0]']          \n",
            "                                                                                                  \n",
            " conv2d_72 (Conv2D)             (None, 10, 17, 192)  147456      ['mixed7[0][0]']                 \n",
            "                                                                                                  \n",
            " batch_normalization_72 (BatchN  (None, 10, 17, 192)  576        ['conv2d_72[0][0]']              \n",
            " ormalization)                                                                                    \n",
            "                                                                                                  \n",
            " activation_72 (Activation)     (None, 10, 17, 192)  0           ['batch_normalization_72[0][0]'] \n",
            "                                                                                                  \n",
            " conv2d_73 (Conv2D)             (None, 10, 17, 192)  258048      ['activation_72[0][0]']          \n",
            "                                                                                                  \n",
            " batch_normalization_73 (BatchN  (None, 10, 17, 192)  576        ['conv2d_73[0][0]']              \n",
            " ormalization)                                                                                    \n",
            "                                                                                                  \n",
            " activation_73 (Activation)     (None, 10, 17, 192)  0           ['batch_normalization_73[0][0]'] \n",
            "                                                                                                  \n",
            " conv2d_70 (Conv2D)             (None, 10, 17, 192)  147456      ['mixed7[0][0]']                 \n",
            "                                                                                                  \n",
            " conv2d_74 (Conv2D)             (None, 10, 17, 192)  258048      ['activation_73[0][0]']          \n",
            "                                                                                                  \n",
            " batch_normalization_70 (BatchN  (None, 10, 17, 192)  576        ['conv2d_70[0][0]']              \n",
            " ormalization)                                                                                    \n",
            "                                                                                                  \n",
            " batch_normalization_74 (BatchN  (None, 10, 17, 192)  576        ['conv2d_74[0][0]']              \n",
            " ormalization)                                                                                    \n",
            "                                                                                                  \n",
            " activation_70 (Activation)     (None, 10, 17, 192)  0           ['batch_normalization_70[0][0]'] \n",
            "                                                                                                  \n",
            " activation_74 (Activation)     (None, 10, 17, 192)  0           ['batch_normalization_74[0][0]'] \n",
            "                                                                                                  \n",
            " conv2d_71 (Conv2D)             (None, 4, 8, 320)    552960      ['activation_70[0][0]']          \n",
            "                                                                                                  \n",
            " conv2d_75 (Conv2D)             (None, 4, 8, 192)    331776      ['activation_74[0][0]']          \n",
            "                                                                                                  \n",
            " batch_normalization_71 (BatchN  (None, 4, 8, 320)   960         ['conv2d_71[0][0]']              \n",
            " ormalization)                                                                                    \n",
            "                                                                                                  \n",
            " batch_normalization_75 (BatchN  (None, 4, 8, 192)   576         ['conv2d_75[0][0]']              \n",
            " ormalization)                                                                                    \n",
            "                                                                                                  \n",
            " activation_71 (Activation)     (None, 4, 8, 320)    0           ['batch_normalization_71[0][0]'] \n",
            "                                                                                                  \n",
            " activation_75 (Activation)     (None, 4, 8, 192)    0           ['batch_normalization_75[0][0]'] \n",
            "                                                                                                  \n",
            " max_pooling2d_3 (MaxPooling2D)  (None, 4, 8, 768)   0           ['mixed7[0][0]']                 \n",
            "                                                                                                  \n",
            " mixed8 (Concatenate)           (None, 4, 8, 1280)   0           ['activation_71[0][0]',          \n",
            "                                                                  'activation_75[0][0]',          \n",
            "                                                                  'max_pooling2d_3[0][0]']        \n",
            "                                                                                                  \n",
            " conv2d_80 (Conv2D)             (None, 4, 8, 448)    573440      ['mixed8[0][0]']                 \n",
            "                                                                                                  \n",
            " batch_normalization_80 (BatchN  (None, 4, 8, 448)   1344        ['conv2d_80[0][0]']              \n",
            " ormalization)                                                                                    \n",
            "                                                                                                  \n",
            " activation_80 (Activation)     (None, 4, 8, 448)    0           ['batch_normalization_80[0][0]'] \n",
            "                                                                                                  \n",
            " conv2d_77 (Conv2D)             (None, 4, 8, 384)    491520      ['mixed8[0][0]']                 \n",
            "                                                                                                  \n",
            " conv2d_81 (Conv2D)             (None, 4, 8, 384)    1548288     ['activation_80[0][0]']          \n",
            "                                                                                                  \n",
            " batch_normalization_77 (BatchN  (None, 4, 8, 384)   1152        ['conv2d_77[0][0]']              \n",
            " ormalization)                                                                                    \n",
            "                                                                                                  \n",
            " batch_normalization_81 (BatchN  (None, 4, 8, 384)   1152        ['conv2d_81[0][0]']              \n",
            " ormalization)                                                                                    \n",
            "                                                                                                  \n",
            " activation_77 (Activation)     (None, 4, 8, 384)    0           ['batch_normalization_77[0][0]'] \n",
            "                                                                                                  \n",
            " activation_81 (Activation)     (None, 4, 8, 384)    0           ['batch_normalization_81[0][0]'] \n",
            "                                                                                                  \n",
            " conv2d_78 (Conv2D)             (None, 4, 8, 384)    442368      ['activation_77[0][0]']          \n",
            "                                                                                                  \n",
            " conv2d_79 (Conv2D)             (None, 4, 8, 384)    442368      ['activation_77[0][0]']          \n",
            "                                                                                                  \n",
            " conv2d_82 (Conv2D)             (None, 4, 8, 384)    442368      ['activation_81[0][0]']          \n",
            "                                                                                                  \n",
            " conv2d_83 (Conv2D)             (None, 4, 8, 384)    442368      ['activation_81[0][0]']          \n",
            "                                                                                                  \n",
            " average_pooling2d_7 (AveragePo  (None, 4, 8, 1280)  0           ['mixed8[0][0]']                 \n",
            " oling2D)                                                                                         \n",
            "                                                                                                  \n",
            " conv2d_76 (Conv2D)             (None, 4, 8, 320)    409600      ['mixed8[0][0]']                 \n",
            "                                                                                                  \n",
            " batch_normalization_78 (BatchN  (None, 4, 8, 384)   1152        ['conv2d_78[0][0]']              \n",
            " ormalization)                                                                                    \n",
            "                                                                                                  \n",
            " batch_normalization_79 (BatchN  (None, 4, 8, 384)   1152        ['conv2d_79[0][0]']              \n",
            " ormalization)                                                                                    \n",
            "                                                                                                  \n",
            " batch_normalization_82 (BatchN  (None, 4, 8, 384)   1152        ['conv2d_82[0][0]']              \n",
            " ormalization)                                                                                    \n",
            "                                                                                                  \n",
            " batch_normalization_83 (BatchN  (None, 4, 8, 384)   1152        ['conv2d_83[0][0]']              \n",
            " ormalization)                                                                                    \n",
            "                                                                                                  \n",
            " conv2d_84 (Conv2D)             (None, 4, 8, 192)    245760      ['average_pooling2d_7[0][0]']    \n",
            "                                                                                                  \n",
            " batch_normalization_76 (BatchN  (None, 4, 8, 320)   960         ['conv2d_76[0][0]']              \n",
            " ormalization)                                                                                    \n",
            "                                                                                                  \n",
            " activation_78 (Activation)     (None, 4, 8, 384)    0           ['batch_normalization_78[0][0]'] \n",
            "                                                                                                  \n",
            " activation_79 (Activation)     (None, 4, 8, 384)    0           ['batch_normalization_79[0][0]'] \n",
            "                                                                                                  \n",
            " activation_82 (Activation)     (None, 4, 8, 384)    0           ['batch_normalization_82[0][0]'] \n",
            "                                                                                                  \n",
            " activation_83 (Activation)     (None, 4, 8, 384)    0           ['batch_normalization_83[0][0]'] \n",
            "                                                                                                  \n",
            " batch_normalization_84 (BatchN  (None, 4, 8, 192)   576         ['conv2d_84[0][0]']              \n",
            " ormalization)                                                                                    \n",
            "                                                                                                  \n",
            " activation_76 (Activation)     (None, 4, 8, 320)    0           ['batch_normalization_76[0][0]'] \n",
            "                                                                                                  \n",
            " mixed9_0 (Concatenate)         (None, 4, 8, 768)    0           ['activation_78[0][0]',          \n",
            "                                                                  'activation_79[0][0]']          \n",
            "                                                                                                  \n",
            " concatenate (Concatenate)      (None, 4, 8, 768)    0           ['activation_82[0][0]',          \n",
            "                                                                  'activation_83[0][0]']          \n",
            "                                                                                                  \n",
            " activation_84 (Activation)     (None, 4, 8, 192)    0           ['batch_normalization_84[0][0]'] \n",
            "                                                                                                  \n",
            " mixed9 (Concatenate)           (None, 4, 8, 2048)   0           ['activation_76[0][0]',          \n",
            "                                                                  'mixed9_0[0][0]',               \n",
            "                                                                  'concatenate[0][0]',            \n",
            "                                                                  'activation_84[0][0]']          \n",
            "                                                                                                  \n",
            " conv2d_89 (Conv2D)             (None, 4, 8, 448)    917504      ['mixed9[0][0]']                 \n",
            "                                                                                                  \n",
            " batch_normalization_89 (BatchN  (None, 4, 8, 448)   1344        ['conv2d_89[0][0]']              \n",
            " ormalization)                                                                                    \n",
            "                                                                                                  \n",
            " activation_89 (Activation)     (None, 4, 8, 448)    0           ['batch_normalization_89[0][0]'] \n",
            "                                                                                                  \n",
            " conv2d_86 (Conv2D)             (None, 4, 8, 384)    786432      ['mixed9[0][0]']                 \n",
            "                                                                                                  \n",
            " conv2d_90 (Conv2D)             (None, 4, 8, 384)    1548288     ['activation_89[0][0]']          \n",
            "                                                                                                  \n",
            " batch_normalization_86 (BatchN  (None, 4, 8, 384)   1152        ['conv2d_86[0][0]']              \n",
            " ormalization)                                                                                    \n",
            "                                                                                                  \n",
            " batch_normalization_90 (BatchN  (None, 4, 8, 384)   1152        ['conv2d_90[0][0]']              \n",
            " ormalization)                                                                                    \n",
            "                                                                                                  \n",
            " activation_86 (Activation)     (None, 4, 8, 384)    0           ['batch_normalization_86[0][0]'] \n",
            "                                                                                                  \n",
            " activation_90 (Activation)     (None, 4, 8, 384)    0           ['batch_normalization_90[0][0]'] \n",
            "                                                                                                  \n",
            " conv2d_87 (Conv2D)             (None, 4, 8, 384)    442368      ['activation_86[0][0]']          \n",
            "                                                                                                  \n",
            " conv2d_88 (Conv2D)             (None, 4, 8, 384)    442368      ['activation_86[0][0]']          \n",
            "                                                                                                  \n",
            " conv2d_91 (Conv2D)             (None, 4, 8, 384)    442368      ['activation_90[0][0]']          \n",
            "                                                                                                  \n",
            " conv2d_92 (Conv2D)             (None, 4, 8, 384)    442368      ['activation_90[0][0]']          \n",
            "                                                                                                  \n",
            " average_pooling2d_8 (AveragePo  (None, 4, 8, 2048)  0           ['mixed9[0][0]']                 \n",
            " oling2D)                                                                                         \n",
            "                                                                                                  \n",
            " conv2d_85 (Conv2D)             (None, 4, 8, 320)    655360      ['mixed9[0][0]']                 \n",
            "                                                                                                  \n",
            " batch_normalization_87 (BatchN  (None, 4, 8, 384)   1152        ['conv2d_87[0][0]']              \n",
            " ormalization)                                                                                    \n",
            "                                                                                                  \n",
            " batch_normalization_88 (BatchN  (None, 4, 8, 384)   1152        ['conv2d_88[0][0]']              \n",
            " ormalization)                                                                                    \n",
            "                                                                                                  \n",
            " batch_normalization_91 (BatchN  (None, 4, 8, 384)   1152        ['conv2d_91[0][0]']              \n",
            " ormalization)                                                                                    \n",
            "                                                                                                  \n",
            " batch_normalization_92 (BatchN  (None, 4, 8, 384)   1152        ['conv2d_92[0][0]']              \n",
            " ormalization)                                                                                    \n",
            "                                                                                                  \n",
            " conv2d_93 (Conv2D)             (None, 4, 8, 192)    393216      ['average_pooling2d_8[0][0]']    \n",
            "                                                                                                  \n",
            " batch_normalization_85 (BatchN  (None, 4, 8, 320)   960         ['conv2d_85[0][0]']              \n",
            " ormalization)                                                                                    \n",
            "                                                                                                  \n",
            " activation_87 (Activation)     (None, 4, 8, 384)    0           ['batch_normalization_87[0][0]'] \n",
            "                                                                                                  \n",
            " activation_88 (Activation)     (None, 4, 8, 384)    0           ['batch_normalization_88[0][0]'] \n",
            "                                                                                                  \n",
            " activation_91 (Activation)     (None, 4, 8, 384)    0           ['batch_normalization_91[0][0]'] \n",
            "                                                                                                  \n",
            " activation_92 (Activation)     (None, 4, 8, 384)    0           ['batch_normalization_92[0][0]'] \n",
            "                                                                                                  \n",
            " batch_normalization_93 (BatchN  (None, 4, 8, 192)   576         ['conv2d_93[0][0]']              \n",
            " ormalization)                                                                                    \n",
            "                                                                                                  \n",
            " activation_85 (Activation)     (None, 4, 8, 320)    0           ['batch_normalization_85[0][0]'] \n",
            "                                                                                                  \n",
            " mixed9_1 (Concatenate)         (None, 4, 8, 768)    0           ['activation_87[0][0]',          \n",
            "                                                                  'activation_88[0][0]']          \n",
            "                                                                                                  \n",
            " concatenate_1 (Concatenate)    (None, 4, 8, 768)    0           ['activation_91[0][0]',          \n",
            "                                                                  'activation_92[0][0]']          \n",
            "                                                                                                  \n",
            " activation_93 (Activation)     (None, 4, 8, 192)    0           ['batch_normalization_93[0][0]'] \n",
            "                                                                                                  \n",
            " mixed10 (Concatenate)          (None, 4, 8, 2048)   0           ['activation_85[0][0]',          \n",
            "                                                                  'mixed9_1[0][0]',               \n",
            "                                                                  'concatenate_1[0][0]',          \n",
            "                                                                  'activation_93[0][0]']          \n",
            "                                                                                                  \n",
            "==================================================================================================\n",
            "Total params: 21,802,784\n",
            "Trainable params: 21,768,352\n",
            "Non-trainable params: 34,432\n",
            "__________________________________________________________________________________________________\n"
          ]
        }
      ]
    },
    {
      "cell_type": "code",
      "execution_count": null,
      "metadata": {
        "id": "GWyLeJle9rBD"
      },
      "outputs": [],
      "source": [
        "#define and compile mixed\n",
        "def define_compile_model_mixed(backbone):\n",
        "  #choose pretrained model backbone to use , return compiled model \n",
        "\n",
        "  #reset backend so we don't have training data from previous experiments/runs\n",
        "  tf.keras.backend.clear_session()\n",
        "  \n",
        "  # #define model architecture\n",
        "  for layer in backbone.layers: #freeze all layers to take advantage of imagenet weights\n",
        "    layer.trainable = False\n",
        "\n",
        "  for layer in backbone.layers[-15:]: #unfreeze the last 15 layers so the model can learn features specific to our dataset\n",
        "    layer.trainable = True\n",
        "\n",
        "  #take the output layer from the backbone and flatten it\n",
        "  f1 = Flatten()(backbone.output)\n",
        "  #drop out some neurons so model does not rely too heavily on certain neurons to make predictions\n",
        "  dr1 = Dropout(0.3)(f1) \n",
        "  #pass output through basic nn and reduce down into 6 neurons , each one matching a specific bethesda class\n",
        "  d1 = Dense(400, activation='relu')(dr1)\n",
        "  d2 = Dense(200, activation='relu')(d1)\n",
        "  d3 = Dense(100, activation='relu')(d2)\n",
        "  output = Dense(6, activation='softmax')(d3)\n",
        "\n",
        "  #define the entire model\n",
        "  model = Model(backbone.input, output)\n",
        "\n",
        "  #compile model including metrics to log and optimiser to use\n",
        "  metrics_list = [tf.keras.metrics.CategoricalAccuracy(name='cat_accuracy'),\n",
        "                  tfa.metrics.F1Score(num_classes=6,threshold=None,average='macro',name = 'f1_score'),\n",
        "                  tf.keras.metrics.Recall(name='sensitivity/recall'),\n",
        "                  specificity,\n",
        "                  tf.keras.metrics.AUC(curve='ROC',name='AUC',multi_label=True,num_labels=6)]\n",
        "\n",
        "\n",
        "  model.compile(optimizer='adam',\n",
        "                  loss=tf.keras.losses.CategoricalCrossentropy(from_logits=False),\n",
        "                  metrics= metrics_list)\n",
        "  \n",
        "  return model\n",
        "\n",
        "model_compiled_mixed = define_compile_model_mixed(backbone_mixed)"
      ]
    },
    {
      "cell_type": "code",
      "source": [
        "#load entire model if needed to resume training\n",
        "\n",
        "# metrics_list = [tf.keras.metrics.CategoricalAccuracy(name='cat_accuracy'),\n",
        "#                   tfa.metrics.F1Score(num_classes=6,threshold=None,average='macro',name = 'f1_score'),\n",
        "#                   tf.keras.metrics.Recall(name='sensitivity/recall'),\n",
        "#                   specificity,\n",
        "#                   tf.keras.metrics.AUC(curve='ROC',name='AUC',multi_label=True,num_labels=6)]\n",
        "\n",
        "# model_compiled_mixed = tf.keras.models.load_model(mixed_models_best+'xception_minus15.h5',\n",
        "#                                                   custom_objects={'specificity':specificity,\n",
        "#                                                                'f1_score':tfa.metrics.F1Score(num_classes=6,threshold=None,average='macro',name = 'f1_score')})\n",
        "                                               "
      ],
      "metadata": {
        "id": "C8-bGBHkwfYV"
      },
      "execution_count": null,
      "outputs": []
    },
    {
      "cell_type": "code",
      "source": [
        "#load best weights from current run if needed to resume training\n",
        "# model_compiled_mixed.load_weights(mixed_models_current+'current_run')"
      ],
      "metadata": {
        "id": "FzgveP7Kcp0v"
      },
      "execution_count": null,
      "outputs": []
    },
    {
      "cell_type": "code",
      "execution_count": null,
      "metadata": {
        "id": "b0Dkrj0d3ShJ",
        "colab": {
          "base_uri": "https://localhost:8080/"
        },
        "outputId": "604a65a2-5f6d-4dd2-8617-5a04a4c54dbe"
      },
      "outputs": [
        {
          "output_type": "stream",
          "name": "stdout",
          "text": [
            "Epoch 1/20\n",
            "101/101 [==============================] - 52s 485ms/step - loss: 0.3937 - cat_accuracy: 0.8518 - f1_score: 0.8515 - sensitivity/recall: 0.8303 - specificity: 0.9756 - AUC: 0.9805 - val_loss: 0.6995 - val_cat_accuracy: 0.7406 - val_f1_score: 0.7428 - val_sensitivity/recall: 0.7188 - val_specificity: 0.9563 - val_AUC: 0.9539\n",
            "Epoch 2/20\n",
            "101/101 [==============================] - 52s 514ms/step - loss: 0.3590 - cat_accuracy: 0.8727 - f1_score: 0.8726 - sensitivity/recall: 0.8574 - specificity: 0.9787 - AUC: 0.9831 - val_loss: 0.6847 - val_cat_accuracy: 0.7969 - val_f1_score: 0.7834 - val_sensitivity/recall: 0.7875 - val_specificity: 0.9650 - val_AUC: 0.9627\n",
            "Epoch 3/20\n",
            "101/101 [==============================] - 51s 506ms/step - loss: 0.3407 - cat_accuracy: 0.8776 - f1_score: 0.8775 - sensitivity/recall: 0.8646 - specificity: 0.9797 - AUC: 0.9852 - val_loss: 0.6835 - val_cat_accuracy: 0.8156 - val_f1_score: 0.8127 - val_sensitivity/recall: 0.8000 - val_specificity: 0.9663 - val_AUC: 0.9541\n",
            "Epoch 4/20\n",
            "101/101 [==============================] - 52s 514ms/step - loss: 0.3096 - cat_accuracy: 0.8877 - f1_score: 0.8874 - sensitivity/recall: 0.8735 - specificity: 0.9805 - AUC: 0.9875 - val_loss: 0.4911 - val_cat_accuracy: 0.8469 - val_f1_score: 0.8438 - val_sensitivity/recall: 0.8344 - val_specificity: 0.9737 - val_AUC: 0.9734\n",
            "Epoch 5/20\n",
            "101/101 [==============================] - 46s 461ms/step - loss: 0.2985 - cat_accuracy: 0.8908 - f1_score: 0.8906 - sensitivity/recall: 0.8795 - specificity: 0.9812 - AUC: 0.9880 - val_loss: 0.5637 - val_cat_accuracy: 0.8156 - val_f1_score: 0.8158 - val_sensitivity/recall: 0.7969 - val_specificity: 0.9675 - val_AUC: 0.9670\n",
            "Epoch 6/20\n",
            "101/101 [==============================] - 45s 445ms/step - loss: 0.2690 - cat_accuracy: 0.9047 - f1_score: 0.9046 - sensitivity/recall: 0.8926 - specificity: 0.9836 - AUC: 0.9902 - val_loss: 0.7562 - val_cat_accuracy: 0.7781 - val_f1_score: 0.7660 - val_sensitivity/recall: 0.7625 - val_specificity: 0.9606 - val_AUC: 0.9639\n",
            "Epoch 7/20\n",
            "101/101 [==============================] - 45s 445ms/step - loss: 0.2515 - cat_accuracy: 0.9086 - f1_score: 0.9083 - sensitivity/recall: 0.8987 - specificity: 0.9841 - AUC: 0.9913 - val_loss: 0.5140 - val_cat_accuracy: 0.8469 - val_f1_score: 0.8447 - val_sensitivity/recall: 0.8375 - val_specificity: 0.9706 - val_AUC: 0.9700\n"
          ]
        }
      ],
      "source": [
        "#train mixed model\n",
        "\n",
        "#define callbacks \n",
        "\n",
        "#early stopping to prevent over training\n",
        "callback_early_stopping = tf.keras.callbacks.EarlyStopping(\n",
        "      monitor='val_loss', patience=3, verbose=0, mode='auto',\n",
        "      baseline=None, restore_best_weights=False) \n",
        "\n",
        "#save best weights each epoch\n",
        "saving_callback_mixed = tf.keras.callbacks.ModelCheckpoint(\n",
        "    filepath=mixed_models_current+'current_run',\n",
        "    monitor='val_cat_accuracy',\n",
        "    verbose=0,\n",
        "    save_best_only = True,\n",
        "    save_weights_only  = True)\n",
        "\n",
        "#train the model, return trained model object and training history\n",
        "def train_model_mi(compiled_model,train_ds_opt, valid_ds_opt, EPOCHS):\n",
        "  \n",
        "  trained_model = compiled_model\n",
        "  history = trained_model.fit(\n",
        "    train_ds_opt,\n",
        "    validation_data=valid_ds_opt,\n",
        "    epochs=EPOCHS,\n",
        "    steps_per_epoch=int(len(x_train_mi)/64),\n",
        "    validation_steps=5,\n",
        "    verbose=1,\n",
        "    callbacks=[callback_early_stopping,saving_callback_mixed])\n",
        "  return trained_model, history\n",
        "\n",
        "model_trained_mi, history_mi = train_model_mi(model_compiled_mixed, train_ds_mixed_opt, val_ds_mixed_opt, 20)"
      ]
    },
    {
      "cell_type": "markdown",
      "source": [
        "### Show model training metrics"
      ],
      "metadata": {
        "id": "H9na93OXdbsQ"
      }
    },
    {
      "cell_type": "code",
      "execution_count": null,
      "metadata": {
        "id": "vWWFH3M7XMDF",
        "colab": {
          "base_uri": "https://localhost:8080/",
          "height": 1000
        },
        "outputId": "9c78a488-ae9c-4c9f-ddcc-8d180e358fbe"
      },
      "outputs": [
        {
          "output_type": "display_data",
          "data": {
            "text/plain": [
              "<Figure size 576x576 with 1 Axes>"
            ],
            "image/png": "[encoded data removed]"
          },
          "metadata": {
            "needs_background": "light"
          }
        },
        {
          "output_type": "display_data",
          "data": {
            "text/plain": [
              "<Figure size 576x576 with 1 Axes>"
            ],
            "image/png": "[encoded data removed]"
          },
          "metadata": {
            "needs_background": "light"
          }
        },
        {
          "output_type": "display_data",
          "data": {
            "text/plain": [
              "<Figure size 576x576 with 1 Axes>"
            ],
            "image/png": "[encoded data removed]"
          },
          "metadata": {
            "needs_background": "light"
          }
        },
        {
          "output_type": "display_data",
          "data": {
            "text/plain": [
              "<Figure size 576x576 with 1 Axes>"
            ],
            "image/png": "[encoded data removed]"
          },
          "metadata": {
            "needs_background": "light"
          }
        },
        {
          "output_type": "display_data",
          "data": {
            "text/plain": [
              "<Figure size 576x576 with 1 Axes>"
            ],
            "image/png": "[encoded data removed]"
          },
          "metadata": {
            "needs_background": "light"
          }
        },
        {
          "output_type": "display_data",
          "data": {
            "text/plain": [
              "<Figure size 576x576 with 1 Axes>"
            ],
            "image/png": "[encoded data removed]"
          },
          "metadata": {
            "needs_background": "light"
          }
        },
        {
          "output_type": "stream",
          "name": "stdout",
          "text": [
            "{'val_loss': 0.632, 'val_cat_accuracy': 0.8, 'val_f1_score': 0.794, 'val_sensitivity/recall': 0.769, 'val_specificity': 0.965, 'val_AUC': 0.958}\n"
          ]
        }
      ],
      "source": [
        "best_metrics_dict_mi_current_run = show_training_metrics(model_trained_mi, history_mi)"
      ]
    },
    {
      "cell_type": "code",
      "source": [
        "#if model has better metrics than current best performing model, we save as a .h5 file\n",
        "# model_compiled_mixed.save(mixed_models_best+'xception_minus15.h5')"
      ],
      "metadata": {
        "id": "X2wdMWFlcSFY"
      },
      "execution_count": null,
      "outputs": []
    },
    {
      "cell_type": "markdown",
      "source": [
        "### Make predictions against validation set"
      ],
      "metadata": {
        "id": "rnm9mkCMcGjb"
      }
    },
    {
      "cell_type": "code",
      "execution_count": null,
      "metadata": {
        "id": "5WRji6ydaZtQ",
        "colab": {
          "base_uri": "https://localhost:8080/"
        },
        "outputId": "db857f64-ab48-4cf5-f177-d83a4b41f935"
      },
      "outputs": [
        {
          "output_type": "execute_result",
          "data": {
            "text/plain": [
              "<tensorflow.python.training.tracking.util.CheckpointLoadStatus at 0x7f45f128e590>"
            ]
          },
          "metadata": {},
          "execution_count": 45
        }
      ],
      "source": [
        "#load best weights from current run if needed\n",
        "model_trained_mi.load_weights(mixed_models_current+'current_run')"
      ]
    },
    {
      "cell_type": "code",
      "source": [
        "#load entire model if needed\n",
        "# model_trained_mi = tf.keras.models.load_model(mixed_models_best+'xception_minus15.h5',\n",
        "#                                                custom_objects={'specificity':specificity,\n",
        "#                                                                'f1_score':tfa.metrics.F1Score(num_classes=6,threshold=None,average='macro',name = 'f1_score')})"
      ],
      "metadata": {
        "id": "OiPhE87ZwsK7"
      },
      "execution_count": null,
      "outputs": []
    },
    {
      "cell_type": "code",
      "execution_count": null,
      "metadata": {
        "id": "ZnBg65uD8rB4"
      },
      "outputs": [],
      "source": [
        "#make predictions on validation set\n",
        "y_trues_oh_mi_val1 ,y_preds_oh_mi_val1 = get_oh_preds_class_label(val_ds_1_mixed, model_trained_mi)\n",
        "\n",
        "#convert back to integer class label encodings\n",
        "y_trues_cl_mi_val1 = enc.inverse_transform(y_trues_oh_mi_val1)\n",
        "y_preds_cl_mi_val1 = enc.inverse_transform(y_preds_oh_mi_val1)"
      ]
    },
    {
      "cell_type": "code",
      "execution_count": null,
      "metadata": {
        "id": "tlRNR2096SoF",
        "colab": {
          "base_uri": "https://localhost:8080/",
          "height": 786
        },
        "outputId": "9565cac3-13b8-4df5-91c7-af0ff6d172fe"
      },
      "outputs": [
        {
          "output_type": "stream",
          "name": "stdout",
          "text": [
            "[[114   1  10   2   2   1]\n",
            " [  5  97   4  15   2   0]\n",
            " [  1   5 103   3  11   0]\n",
            " [  3  10   2  96   3   0]\n",
            " [  4   2  17   2  78  14]\n",
            " [  1   0   0   0   4 108]]\n"
          ]
        },
        {
          "output_type": "display_data",
          "data": {
            "text/plain": [
              "<Figure size 432x432 with 2 Axes>"
            ],
            "image/png": "[encoded data removed]"
          },
          "metadata": {
            "needs_background": "light"
          }
        },
        {
          "output_type": "stream",
          "name": "stdout",
          "text": [
            "val cat accuracy: 0.828\n",
            "val f1 macro: 0.826\n",
            "val sensitivity/recall: 0.827\n",
            "              precision    recall  f1-score   support\n",
            "\n",
            "          NL      0.891     0.877     0.884       130\n",
            "      ASC-US      0.843     0.789     0.815       123\n",
            "       ASC-H      0.757     0.837     0.795       123\n",
            "        LSIL      0.814     0.842     0.828       114\n",
            "        HSIL      0.780     0.667     0.719       117\n",
            "         SCC      0.878     0.956     0.915       113\n",
            "\n",
            "    accuracy                          0.828       720\n",
            "   macro avg      0.827     0.828     0.826       720\n",
            "weighted avg      0.828     0.828     0.826       720\n",
            "\n"
          ]
        }
      ],
      "source": [
        "#evaluate predictions\n",
        "eval_predictions(y_trues_cl_mi_val1,y_preds_cl_mi_val1,'multi-class model (xception backbone) trained on mixed datasets') "
      ]
    },
    {
      "cell_type": "markdown",
      "source": [
        "### Testing specific images:"
      ],
      "metadata": {
        "id": "BNZPZX5QDNet"
      }
    },
    {
      "cell_type": "code",
      "source": [
        "test_img = cv2.imread('/content/drive/MyDrive/ASC-H_121.jpg')"
      ],
      "metadata": {
        "id": "wmoTeAm-AJM_"
      },
      "execution_count": null,
      "outputs": []
    },
    {
      "cell_type": "code",
      "source": [
        "resized_test_image = resize_tr(image=test_img)['image']"
      ],
      "metadata": {
        "id": "yL0o7RZfbBS5"
      },
      "execution_count": null,
      "outputs": []
    },
    {
      "cell_type": "code",
      "source": [
        "ready_test_image = tf.keras.applications.xception.preprocess_input(resized_test_image)"
      ],
      "metadata": {
        "id": "-b94_kdCbMb1"
      },
      "execution_count": null,
      "outputs": []
    },
    {
      "cell_type": "code",
      "source": [
        "test_pred = model_trained_mi.predict(np.expand_dims(ready_test_image,axis=0))"
      ],
      "metadata": {
        "id": "0uGBDYyBcK-o"
      },
      "execution_count": null,
      "outputs": []
    },
    {
      "cell_type": "code",
      "source": [
        "test_pred"
      ],
      "metadata": {
        "id": "K_0zS1fVcXaZ"
      },
      "execution_count": null,
      "outputs": []
    },
    {
      "cell_type": "code",
      "source": [],
      "metadata": {
        "id": "TuuhvLRXcpkB"
      },
      "execution_count": null,
      "outputs": []
    }
  ],
  "metadata": {
    "colab": {
      "collapsed_sections": [],
      "provenance": []
    },
    "gpuClass": "standard",
    "kernelspec": {
      "display_name": "Python 3",
      "name": "python3"
    },
    "language_info": {
      "name": "python"
    },
    "accelerator": "GPU"
  },
  "nbformat": 4,
  "nbformat_minor": 0
}